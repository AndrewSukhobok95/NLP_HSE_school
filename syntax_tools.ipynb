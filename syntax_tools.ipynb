{
 "cells": [
  {
   "cell_type": "code",
   "execution_count": 1,
   "metadata": {
    "collapsed": true
   },
   "outputs": [],
   "source": [
    "import pandas as pd\n",
    "from pymystem3 import Mystem\n",
    "df = pd.DataFrame()\n",
    "m=Mystem()\n",
    "for i in range(1,46):\n",
    "    if(i in [9,22,26]): continue\n",
    "    df2 = pd.read_json('Texts/art{}syn.json'.format(i))\n",
    "    df2['file'] = i\n",
    "    df = pd.concat([df,df2]) \n",
    "\n",
    "\n",
    "df = df.reset_index()\n",
    "def get_struct_data(x):\n",
    "    sentl =[]\n",
    "    pars=[]\n",
    "    for text in x:\n",
    "        for sent in text:\n",
    "            sentl = sent.split(' ')\n",
    "            to_app = [sentl[i] for i in range(len(sentl)) if i in([0,1,4,6,8,10,12])]\n",
    "            to_app.append(m.lemmatize(to_app[2])[0])\n",
    "            pars.append(to_app)\n",
    "    return(pars)\n",
    "       \n",
    "df['syntax'] = df['syntax'].apply(get_struct_data)  \n",
    "\n",
    "\n",
    "def get_mutual_node(n_file,row,ent1,ent1pos,ent2,ent2pos):\n",
    "    syntax = (df[(df['file']==n_file) & (df['index']==row)].syntax.iloc[0])\n",
    "    \n",
    "    def get_node(e,p):\n",
    "        e = e.split(\" \")[0]\n",
    "        ent_dict = dict()\n",
    "        for i in range(len(syntax)):\n",
    "            if(syntax[i][7]==e):\n",
    "                ent_dict[abs(int(syntax[i][1])-p)]=i\n",
    "        return ent_dict[sorted(ent_dict)[0]]\n",
    "    def get_route(i):\n",
    "        route = list()\n",
    "        for _ in range(len(syntax)):\n",
    "            h=int(syntax[i][5])\n",
    "            if(h ==-1): return route\n",
    "            route.append(syntax[h])\n",
    "            i=h\n",
    "    ent_node1 = get_node(ent1,ent1pos)\n",
    "    ent_node2 = get_node(ent2,ent2pos)\n",
    "    route1= get_route(ent_node1)[::-1]\n",
    "    route2= get_route(ent_node2)[::-1]\n",
    "    \n",
    "    for i in range(len(route1)):\n",
    "        if(route1[i][0]==route2[i][0]): obj=route1[i]\n",
    "        else: break\n",
    "    \n",
    "    return obj,syntax[ent_node1],syntax[ent_node2]\n",
    "    "
   ]
  },
  {
   "cell_type": "code",
   "execution_count": 2,
   "metadata": {
    "collapsed": false
   },
   "outputs": [
    {
     "data": {
      "text/plain": [
       "(['31',\n",
       "  '42',\n",
       "  'перебросить',\n",
       "  'VERB',\n",
       "  'Aspect=Perf|VerbForm=Inf|fPOS=VERB++',\n",
       "  '2',\n",
       "  'nsubj',\n",
       "  'перебрасывать'],\n",
       " ['78',\n",
       "  '83',\n",
       "  'Сирии',\n",
       "  'NOUN',\n",
       "  'Animacy=Inan|Case=Gen|Gender=Fem|Number=Sing|fPOS=NOUN++',\n",
       "  '10',\n",
       "  'dobj',\n",
       "  'сирия'],\n",
       " ['107',\n",
       "  '115',\n",
       "  'Румийлан',\n",
       "  'NOUN',\n",
       "  'Animacy=Inan|Case=Nom|Gender=Masc|Number=Sing|fPOS=NOUN++',\n",
       "  '15',\n",
       "  'appos',\n",
       "  'румийлан'])"
      ]
     },
     "execution_count": 2,
     "metadata": {},
     "output_type": "execute_result"
    }
   ],
   "source": [
    "get_mutual_node(1,3,'сирия',2,'румийлан',2)"
   ]
  }
 ],
 "metadata": {
  "kernelspec": {
   "display_name": "Python 3",
   "language": "python",
   "name": "python3"
  },
  "language_info": {
   "codemirror_mode": {
    "name": "ipython",
    "version": 3
   },
   "file_extension": ".py",
   "mimetype": "text/x-python",
   "name": "python",
   "nbconvert_exporter": "python",
   "pygments_lexer": "ipython3",
   "version": "3.6.0"
  }
 },
 "nbformat": 4,
 "nbformat_minor": 2
}
