{
 "cells": [
  {
   "cell_type": "markdown",
   "metadata": {},
   "source": [
    "# NLP HSE School"
   ]
  },
  {
   "cell_type": "code",
   "execution_count": 1,
   "metadata": {
    "collapsed": true
   },
   "outputs": [],
   "source": [
    "from pymystem3 import Mystem\n",
    "import pandas as pd\n",
    "import re"
   ]
  },
  {
   "cell_type": "code",
   "execution_count": null,
   "metadata": {
    "collapsed": true
   },
   "outputs": [],
   "source": []
  },
  {
   "cell_type": "markdown",
   "metadata": {},
   "source": [
    "Перенесем словарь РуСентиЛекс в DataFrame."
   ]
  },
  {
   "cell_type": "code",
   "execution_count": 2,
   "metadata": {
    "collapsed": false
   },
   "outputs": [],
   "source": [
    "with open('RuSentiLex2017_revised_2utf.txt', 'r') as f:\n",
    "    dict_rsl = f.readlines()\n",
    "dict_rsl = pd.DataFrame(\n",
    "    [string.split(',') for string in dict_rsl[18:]],\n",
    "    columns=['word', 'part_of_speech', 'lemma', 'sentiment', 'source', 'ambiguity', 'smth1', 'smth2']\n",
    ")"
   ]
  },
  {
   "cell_type": "code",
   "execution_count": null,
   "metadata": {
    "collapsed": false,
    "scrolled": true
   },
   "outputs": [],
   "source": []
  },
  {
   "cell_type": "code",
   "execution_count": null,
   "metadata": {
    "collapsed": false
   },
   "outputs": [],
   "source": []
  },
  {
   "cell_type": "markdown",
   "metadata": {
    "collapsed": true
   },
   "source": [
    "Собираем нужные файлы"
   ]
  },
  {
   "cell_type": "code",
   "execution_count": 3,
   "metadata": {
    "collapsed": true
   },
   "outputs": [],
   "source": [
    "# Функция для чтения набора файлов относящихся к n статье\n",
    "def art_read(num):\n",
    "    with open('Texts/art{}.txt'.format(num), 'r', encoding='utf-8') as f:\n",
    "        text_lines = f.readlines()\n",
    "        f.seek(0)\n",
    "        text_full = f.read()\n",
    "\n",
    "    with open('Texts/art{}.opin.txt'.format(num), 'r', encoding='utf-8') as f:\n",
    "        opin_lines = f.readlines()\n",
    "        f.seek(0)\n",
    "        opin_full = f.read()\n",
    "\n",
    "    with open('Texts/art{}.ann'.format(num), 'r') as f:\n",
    "        entities_lines = f.readlines()\n",
    "        f.seek(0)\n",
    "        entities_full = f.read()\n",
    "    return {'txt_l':text_lines, 'txt_f':text_full, 'opin_l':opin_lines,\n",
    "            'opin_f':opin_full, 'ent_l':entities_lines, 'ent_f':entities_full}"
   ]
  },
  {
   "cell_type": "code",
   "execution_count": 4,
   "metadata": {
    "collapsed": false
   },
   "outputs": [],
   "source": [
    "art = art_read(1)\n",
    "text_lines = art['txt_l']\n",
    "text_full = art['txt_f']\n",
    "ent_lines = art['ent_l']\n",
    "ent_full = art['ent_f']"
   ]
  },
  {
   "cell_type": "markdown",
   "metadata": {},
   "source": [
    "Рассмотрение сущностей"
   ]
  },
  {
   "cell_type": "code",
   "execution_count": 5,
   "metadata": {
    "collapsed": false,
    "scrolled": true
   },
   "outputs": [],
   "source": [
    "entities = pd.DataFrame(\n",
    "    [\n",
    "        sum([re.findall(r'T[0-9]+\\t([A-Z]+)?', string) for string in ent_lines], []),\n",
    "        sum([re.findall(r'[0-9]+ [0-9]+\\t(.+?)\\n', string) for string in ent_lines], [])\n",
    "    ], index = ['type', 'name']\n",
    ").T\n",
    "entities = entities[(entities['name']!='Author') & (entities['name']!='Unknown')].dropna().reset_index(drop=True)"
   ]
  },
  {
   "cell_type": "code",
   "execution_count": 13,
   "metadata": {
    "collapsed": true
   },
   "outputs": [],
   "source": [
    "m = Mystem()\n",
    "def entity_transform(lemmas):\n",
    "    result = ''.join(lemmas)\n",
    "    result = result.replace('\\n', '')\n",
    "    return result"
   ]
  },
  {
   "cell_type": "code",
   "execution_count": 10,
   "metadata": {
    "collapsed": false,
    "scrolled": true
   },
   "outputs": [],
   "source": [
    "entities['name'] = entities['name'].apply(m.lemmatize)"
   ]
  },
  {
   "cell_type": "code",
   "execution_count": 20,
   "metadata": {
    "collapsed": false
   },
   "outputs": [],
   "source": [
    "entities['name'] = entities['name'].apply(entity_transform)"
   ]
  },
  {
   "cell_type": "code",
   "execution_count": 23,
   "metadata": {
    "collapsed": false
   },
   "outputs": [],
   "source": [
    "entities_unique = entities.drop_duplicates()"
   ]
  },
  {
   "cell_type": "code",
   "execution_count": 34,
   "metadata": {
    "collapsed": false
   },
   "outputs": [
    {
     "data": {
      "text/html": [
       "<div>\n",
       "<table border=\"1\" class=\"dataframe\">\n",
       "  <thead>\n",
       "    <tr style=\"text-align: right;\">\n",
       "      <th></th>\n",
       "      <th>type</th>\n",
       "      <th>name</th>\n",
       "    </tr>\n",
       "  </thead>\n",
       "  <tbody>\n",
       "    <tr>\n",
       "      <th>0</th>\n",
       "      <td>ORG</td>\n",
       "      <td>сми</td>\n",
       "    </tr>\n",
       "    <tr>\n",
       "      <th>1</th>\n",
       "      <td>LOC</td>\n",
       "      <td>иран</td>\n",
       "    </tr>\n",
       "    <tr>\n",
       "      <th>2</th>\n",
       "      <td>GEOPOLIT</td>\n",
       "      <td>финляндия</td>\n",
       "    </tr>\n",
       "    <tr>\n",
       "      <th>3</th>\n",
       "      <td>ORG</td>\n",
       "      <td>нато</td>\n",
       "    </tr>\n",
       "    <tr>\n",
       "      <th>4</th>\n",
       "      <td>GEOPOLIT</td>\n",
       "      <td>россия</td>\n",
       "    </tr>\n",
       "    <tr>\n",
       "      <th>5</th>\n",
       "      <td>ORG</td>\n",
       "      <td>ru</td>\n",
       "    </tr>\n",
       "    <tr>\n",
       "      <th>6</th>\n",
       "      <td>LOC</td>\n",
       "      <td>сирия</td>\n",
       "    </tr>\n",
       "    <tr>\n",
       "      <th>7</th>\n",
       "      <td>LOC</td>\n",
       "      <td>румийлан</td>\n",
       "    </tr>\n",
       "    <tr>\n",
       "      <th>8</th>\n",
       "      <td>ORG</td>\n",
       "      <td>Khorasan</td>\n",
       "    </tr>\n",
       "    <tr>\n",
       "      <th>9</th>\n",
       "      <td>PER</td>\n",
       "      <td>алиреза резах (Alireza Rezakhah</td>\n",
       "    </tr>\n",
       "    <tr>\n",
       "      <th>10</th>\n",
       "      <td>ORG</td>\n",
       "      <td>пентагон</td>\n",
       "    </tr>\n",
       "    <tr>\n",
       "      <th>11</th>\n",
       "      <td>LOC</td>\n",
       "      <td>сша</td>\n",
       "    </tr>\n",
       "    <tr>\n",
       "      <th>12</th>\n",
       "      <td>ORG</td>\n",
       "      <td>игил</td>\n",
       "    </tr>\n",
       "    <tr>\n",
       "      <th>13</th>\n",
       "      <td>LOC</td>\n",
       "      <td>ракка</td>\n",
       "    </tr>\n",
       "    <tr>\n",
       "      <th>14</th>\n",
       "      <td>LOC</td>\n",
       "      <td>дамаск</td>\n",
       "    </tr>\n",
       "    <tr>\n",
       "      <th>15</th>\n",
       "      <td>ORG</td>\n",
       "      <td>вашингтон</td>\n",
       "    </tr>\n",
       "    <tr>\n",
       "      <th>17</th>\n",
       "      <td>GEOPOLIT</td>\n",
       "      <td>москва</td>\n",
       "    </tr>\n",
       "    <tr>\n",
       "      <th>18</th>\n",
       "      <td>GEOPOLIT</td>\n",
       "      <td>дамаск</td>\n",
       "    </tr>\n",
       "    <tr>\n",
       "      <th>19</th>\n",
       "      <td>ORG</td>\n",
       "      <td>белый дом</td>\n",
       "    </tr>\n",
       "    <tr>\n",
       "      <th>20</th>\n",
       "      <td>LOC</td>\n",
       "      <td>москва</td>\n",
       "    </tr>\n",
       "    <tr>\n",
       "      <th>22</th>\n",
       "      <td>ORG</td>\n",
       "      <td>иго</td>\n",
       "    </tr>\n",
       "    <tr>\n",
       "      <th>24</th>\n",
       "      <td>GEOPOLIT</td>\n",
       "      <td>вашингтон</td>\n",
       "    </tr>\n",
       "    <tr>\n",
       "      <th>26</th>\n",
       "      <td>PER</td>\n",
       "      <td>резах</td>\n",
       "    </tr>\n",
       "    <tr>\n",
       "      <th>28</th>\n",
       "      <td>PER</td>\n",
       "      <td>обама</td>\n",
       "    </tr>\n",
       "    <tr>\n",
       "      <th>31</th>\n",
       "      <td>LOC</td>\n",
       "      <td>ближний восток</td>\n",
       "    </tr>\n",
       "    <tr>\n",
       "      <th>32</th>\n",
       "      <td>ORG</td>\n",
       "      <td>ВКС</td>\n",
       "    </tr>\n",
       "    <tr>\n",
       "      <th>33</th>\n",
       "      <td>LOC</td>\n",
       "      <td>пальмира</td>\n",
       "    </tr>\n",
       "    <tr>\n",
       "      <th>35</th>\n",
       "      <td>PER</td>\n",
       "      <td>дираззур</td>\n",
       "    </tr>\n",
       "    <tr>\n",
       "      <th>47</th>\n",
       "      <td>LOC</td>\n",
       "      <td>рф</td>\n",
       "    </tr>\n",
       "    <tr>\n",
       "      <th>49</th>\n",
       "      <td>ORG</td>\n",
       "      <td>минобороны</td>\n",
       "    </tr>\n",
       "    <tr>\n",
       "      <th>...</th>\n",
       "      <td>...</td>\n",
       "      <td>...</td>\n",
       "    </tr>\n",
       "    <tr>\n",
       "      <th>115</th>\n",
       "      <td>LOC</td>\n",
       "      <td>брюссель</td>\n",
       "    </tr>\n",
       "    <tr>\n",
       "      <th>117</th>\n",
       "      <td>LOC</td>\n",
       "      <td>балтийский</td>\n",
       "    </tr>\n",
       "    <tr>\n",
       "      <th>120</th>\n",
       "      <td>LOC</td>\n",
       "      <td>балтика</td>\n",
       "    </tr>\n",
       "    <tr>\n",
       "      <th>123</th>\n",
       "      <td>ORG</td>\n",
       "      <td>Keyhan</td>\n",
       "    </tr>\n",
       "    <tr>\n",
       "      <th>125</th>\n",
       "      <td>LOC</td>\n",
       "      <td>европа</td>\n",
       "    </tr>\n",
       "    <tr>\n",
       "      <th>131</th>\n",
       "      <td>GEOPOLIT</td>\n",
       "      <td>швеция</td>\n",
       "    </tr>\n",
       "    <tr>\n",
       "      <th>133</th>\n",
       "      <td>PER</td>\n",
       "      <td>али хаменей</td>\n",
       "    </tr>\n",
       "    <tr>\n",
       "      <th>134</th>\n",
       "      <td>LOC</td>\n",
       "      <td>ири</td>\n",
       "    </tr>\n",
       "    <tr>\n",
       "      <th>142</th>\n",
       "      <td>LOC</td>\n",
       "      <td>украина</td>\n",
       "    </tr>\n",
       "    <tr>\n",
       "      <th>143</th>\n",
       "      <td>GEOPOLIT</td>\n",
       "      <td>америка</td>\n",
       "    </tr>\n",
       "    <tr>\n",
       "      <th>145</th>\n",
       "      <td>ORG</td>\n",
       "      <td>европа</td>\n",
       "    </tr>\n",
       "    <tr>\n",
       "      <th>146</th>\n",
       "      <td>LOC</td>\n",
       "      <td>киев</td>\n",
       "    </tr>\n",
       "    <tr>\n",
       "      <th>149</th>\n",
       "      <td>LOC</td>\n",
       "      <td>восточный европа</td>\n",
       "    </tr>\n",
       "    <tr>\n",
       "      <th>151</th>\n",
       "      <td>ORG</td>\n",
       "      <td>ес</td>\n",
       "    </tr>\n",
       "    <tr>\n",
       "      <th>157</th>\n",
       "      <td>PER</td>\n",
       "      <td>владимир путин</td>\n",
       "    </tr>\n",
       "    <tr>\n",
       "      <th>158</th>\n",
       "      <td>ORG</td>\n",
       "      <td>управление федеральный служба исполнение наказ...</td>\n",
       "    </tr>\n",
       "    <tr>\n",
       "      <th>160</th>\n",
       "      <td>ORG</td>\n",
       "      <td>мвд</td>\n",
       "    </tr>\n",
       "    <tr>\n",
       "      <th>161</th>\n",
       "      <td>LOC</td>\n",
       "      <td>республика крым</td>\n",
       "    </tr>\n",
       "    <tr>\n",
       "      <th>163</th>\n",
       "      <td>PER</td>\n",
       "      <td>дональд трамп</td>\n",
       "    </tr>\n",
       "    <tr>\n",
       "      <th>165</th>\n",
       "      <td>PER</td>\n",
       "      <td>канцлер фрг</td>\n",
       "    </tr>\n",
       "    <tr>\n",
       "      <th>166</th>\n",
       "      <td>LOC</td>\n",
       "      <td>германия</td>\n",
       "    </tr>\n",
       "    <tr>\n",
       "      <th>167</th>\n",
       "      <td>PER</td>\n",
       "      <td>вальтер штайнмайер</td>\n",
       "    </tr>\n",
       "    <tr>\n",
       "      <th>169</th>\n",
       "      <td>PER</td>\n",
       "      <td>али алеми (Ali Alemi</td>\n",
       "    </tr>\n",
       "    <tr>\n",
       "      <th>170</th>\n",
       "      <td>PER</td>\n",
       "      <td>алеми</td>\n",
       "    </tr>\n",
       "    <tr>\n",
       "      <th>171</th>\n",
       "      <td>PER</td>\n",
       "      <td>трамп</td>\n",
       "    </tr>\n",
       "    <tr>\n",
       "      <th>176</th>\n",
       "      <td>LOC</td>\n",
       "      <td>тегеран</td>\n",
       "    </tr>\n",
       "    <tr>\n",
       "      <th>182</th>\n",
       "      <td>PER</td>\n",
       "      <td>хоссама аль-саед</td>\n",
       "    </tr>\n",
       "    <tr>\n",
       "      <th>184</th>\n",
       "      <td>PER</td>\n",
       "      <td>карлуш кейруш</td>\n",
       "    </tr>\n",
       "    <tr>\n",
       "      <th>186</th>\n",
       "      <td>LOC</td>\n",
       "      <td>восток европа</td>\n",
       "    </tr>\n",
       "    <tr>\n",
       "      <th>187</th>\n",
       "      <td>PER</td>\n",
       "      <td>премьер-министр италия</td>\n",
       "    </tr>\n",
       "  </tbody>\n",
       "</table>\n",
       "<p>86 rows × 2 columns</p>\n",
       "</div>"
      ],
      "text/plain": [
       "         type                                               name\n",
       "0         ORG                                                сми\n",
       "1         LOC                                               иран\n",
       "2    GEOPOLIT                                          финляндия\n",
       "3         ORG                                               нато\n",
       "4    GEOPOLIT                                             россия\n",
       "5         ORG                                                 ru\n",
       "6         LOC                                              сирия\n",
       "7         LOC                                           румийлан\n",
       "8         ORG                                           Khorasan\n",
       "9         PER                    алиреза резах (Alireza Rezakhah\n",
       "10        ORG                                           пентагон\n",
       "11        LOC                                                сша\n",
       "12        ORG                                               игил\n",
       "13        LOC                                              ракка\n",
       "14        LOC                                             дамаск\n",
       "15        ORG                                          вашингтон\n",
       "17   GEOPOLIT                                             москва\n",
       "18   GEOPOLIT                                             дамаск\n",
       "19        ORG                                          белый дом\n",
       "20        LOC                                             москва\n",
       "22        ORG                                                иго\n",
       "24   GEOPOLIT                                          вашингтон\n",
       "26        PER                                              резах\n",
       "28        PER                                              обама\n",
       "31        LOC                                     ближний восток\n",
       "32        ORG                                                ВКС\n",
       "33        LOC                                           пальмира\n",
       "35        PER                                           дираззур\n",
       "47        LOC                                                 рф\n",
       "49        ORG                                         минобороны\n",
       "..        ...                                                ...\n",
       "115       LOC                                           брюссель\n",
       "117       LOC                                         балтийский\n",
       "120       LOC                                            балтика\n",
       "123       ORG                                             Keyhan\n",
       "125       LOC                                             европа\n",
       "131  GEOPOLIT                                             швеция\n",
       "133       PER                                        али хаменей\n",
       "134       LOC                                                ири\n",
       "142       LOC                                            украина\n",
       "143  GEOPOLIT                                            америка\n",
       "145       ORG                                             европа\n",
       "146       LOC                                               киев\n",
       "149       LOC                                   восточный европа\n",
       "151       ORG                                                 ес\n",
       "157       PER                                     владимир путин\n",
       "158       ORG  управление федеральный служба исполнение наказ...\n",
       "160       ORG                                                мвд\n",
       "161       LOC                                    республика крым\n",
       "163       PER                                      дональд трамп\n",
       "165       PER                                        канцлер фрг\n",
       "166       LOC                                           германия\n",
       "167       PER                                 вальтер штайнмайер\n",
       "169       PER                               али алеми (Ali Alemi\n",
       "170       PER                                              алеми\n",
       "171       PER                                              трамп\n",
       "176       LOC                                            тегеран\n",
       "182       PER                                   хоссама аль-саед\n",
       "184       PER                                      карлуш кейруш\n",
       "186       LOC                                      восток европа\n",
       "187       PER                             премьер-министр италия\n",
       "\n",
       "[86 rows x 2 columns]"
      ]
     },
     "execution_count": 34,
     "metadata": {},
     "output_type": "execute_result"
    }
   ],
   "source": [
    "entities_unique"
   ]
  },
  {
   "cell_type": "code",
   "execution_count": null,
   "metadata": {
    "collapsed": true
   },
   "outputs": [],
   "source": []
  },
  {
   "cell_type": "code",
   "execution_count": null,
   "metadata": {
    "collapsed": false
   },
   "outputs": [],
   "source": []
  },
  {
   "cell_type": "code",
   "execution_count": null,
   "metadata": {
    "collapsed": false
   },
   "outputs": [],
   "source": []
  },
  {
   "cell_type": "code",
   "execution_count": null,
   "metadata": {
    "collapsed": true
   },
   "outputs": [],
   "source": []
  },
  {
   "cell_type": "code",
   "execution_count": null,
   "metadata": {
    "collapsed": true
   },
   "outputs": [],
   "source": []
  },
  {
   "cell_type": "code",
   "execution_count": null,
   "metadata": {
    "collapsed": true
   },
   "outputs": [],
   "source": []
  },
  {
   "cell_type": "code",
   "execution_count": null,
   "metadata": {
    "collapsed": true
   },
   "outputs": [],
   "source": []
  },
  {
   "cell_type": "code",
   "execution_count": null,
   "metadata": {
    "collapsed": true
   },
   "outputs": [],
   "source": []
  },
  {
   "cell_type": "code",
   "execution_count": null,
   "metadata": {
    "collapsed": true
   },
   "outputs": [],
   "source": []
  },
  {
   "cell_type": "code",
   "execution_count": null,
   "metadata": {
    "collapsed": true
   },
   "outputs": [],
   "source": []
  },
  {
   "cell_type": "code",
   "execution_count": null,
   "metadata": {
    "collapsed": true
   },
   "outputs": [],
   "source": []
  },
  {
   "cell_type": "code",
   "execution_count": null,
   "metadata": {
    "collapsed": true
   },
   "outputs": [],
   "source": []
  },
  {
   "cell_type": "code",
   "execution_count": null,
   "metadata": {
    "collapsed": true
   },
   "outputs": [],
   "source": []
  },
  {
   "cell_type": "code",
   "execution_count": null,
   "metadata": {
    "collapsed": true
   },
   "outputs": [],
   "source": []
  },
  {
   "cell_type": "code",
   "execution_count": 67,
   "metadata": {
    "collapsed": false
   },
   "outputs": [
    {
     "name": "stdout",
     "output_type": "stream",
     "text": [
      "{Author, Unknown} Зачем американцам понадобилось перебросить 250 своих военных на северо-восток Сирии, к окрестностям города Румийлан, разбирался обозреватель Khorasan (\n",
      "\n"
     ]
    }
   ],
   "source": [
    "print(text_lines[9])"
   ]
  },
  {
   "cell_type": "code",
   "execution_count": 32,
   "metadata": {
    "collapsed": false
   },
   "outputs": [
    {
     "name": "stdout",
     "output_type": "stream",
     "text": [
      "{Author, Unknown} зачем американец понадобиться перебрасывать 250 свой военный на северо-восток сирия, к окрестность город румийлан, разбираться обозреватель Khorasan (\n",
      "\n"
     ]
    }
   ],
   "source": [
    "lemmas = m.lemmatize(text_lines[9])#text_lines[9])\n",
    "print(''.join(lemmas))"
   ]
  },
  {
   "cell_type": "code",
   "execution_count": 143,
   "metadata": {
    "collapsed": false
   },
   "outputs": [
    {
     "data": {
      "text/plain": [
       "['расти', '\\n']"
      ]
     },
     "execution_count": 143,
     "metadata": {},
     "output_type": "execute_result"
    }
   ],
   "source": [
    "lemmas"
   ]
  },
  {
   "cell_type": "code",
   "execution_count": null,
   "metadata": {
    "collapsed": true
   },
   "outputs": [],
   "source": []
  }
 ],
 "metadata": {
  "anaconda-cloud": {},
  "kernelspec": {
   "display_name": "Python [default]",
   "language": "python",
   "name": "python3"
  },
  "language_info": {
   "codemirror_mode": {
    "name": "ipython",
    "version": 3
   },
   "file_extension": ".py",
   "mimetype": "text/x-python",
   "name": "python",
   "nbconvert_exporter": "python",
   "pygments_lexer": "ipython3",
   "version": "3.5.2"
  }
 },
 "nbformat": 4,
 "nbformat_minor": 1
}
