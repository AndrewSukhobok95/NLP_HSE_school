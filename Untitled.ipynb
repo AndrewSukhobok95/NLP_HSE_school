{
 "cells": [
  {
   "cell_type": "code",
   "execution_count": 4,
   "metadata": {
    "collapsed": false
   },
   "outputs": [
    {
     "name": "stdout",
     "output_type": "stream",
     "text": [
      "румийлан сирия neg\n",
      "сирия румийлан neg\n"
     ]
    },
    {
     "data": {
      "text/plain": [
       "[]"
      ]
     },
     "execution_count": 4,
     "metadata": {},
     "output_type": "execute_result"
    }
   ],
   "source": [
    "import pandas as pd\n",
    "import re\n",
    "\n",
    "table = pd.read_csv('sentiframes_df.csv')\n",
    "\n",
    "def find_regexp(s):\n",
    "    regexp = re.compile('\\(.*?\\)', flags = re.U | re.DOTALL)\n",
    "    lst = regexp.findall(s)\n",
    "    if len(lst)==0:\n",
    "        return None\n",
    "    return lst\n",
    "\n",
    "def find_regexp_2(s):\n",
    "    regexp = re.compile('\\(.*?\\)', flags = re.U | re.DOTALL)\n",
    "    lst = regexp.findall(s)\n",
    "    return lst\n",
    "\n",
    "def update(A, A1, A2, A3, A4, lst1, lemma_child1):\n",
    "    lst = A\n",
    "    for i in range(5):\n",
    "        if A1 != None and i < len(A1):\n",
    "            s = A1[i][1:len(A1[i])-1].split()\n",
    "            if len(set(s)&set(lst1)) > 1:\n",
    "                lst[0] = lemma_child1\n",
    "                 \n",
    "        if A2 != None and i < len(A2):\n",
    "            s = A2[i][1:len(A2[i])-1].split()\n",
    "            if len(set(s)&set(lst1)) > 1:\n",
    "                lst[1] = lemma_child1\n",
    "\n",
    "        if A3 != None and i < len(A3):\n",
    "            s = A3[i][1:len(A3[i])-1].split()\n",
    "            if len(set(s)&set(lst1)) > 1:\n",
    "                lst[2] = lemma_child1\n",
    "\n",
    "        if A4 != None and i < len(A4):\n",
    "            s = A4[i][1:len(A4[i])-1].split()\n",
    "            if len(set(s)&set(lst1)) > 1:\n",
    "                lst[3] = lemma_child1\n",
    "    return lst\n",
    "\n",
    "def find_polar(parent, child1, child2):\n",
    "    lst1 = [child1[3]]\n",
    "    lst1 += child1[4].split('|')\n",
    "    lst2 = [child2[3]]\n",
    "    lst2 += child2[4].split('|')\n",
    "    lemma_parent = parent[len(parent)-1]\n",
    "    lemma_child1= child1[len(child1)-1]\n",
    "    lemma_child2= child2[len(child2)-1]\n",
    "\n",
    "    A=[0, 0, 0, 0]    #граммемы актантов глагола - из русентифреймс\n",
    "    \n",
    "    notindict = table[table.lemma==lemma_parent]\n",
    "    A1 = find_regexp(str(notindict.A1))   #признаки первого актанта глагола\n",
    "    A2 = find_regexp(str(notindict.A2))\n",
    "    A3 = find_regexp(str(notindict.A3))    \n",
    "    A4 = find_regexp(str(notindict.A4))\n",
    "    \n",
    "    A = update(A, A1, A2, A3, A4, lst1, lemma_child1)\n",
    "    A = update(A, A1, A2, A3, A4, lst2, lemma_child2)\n",
    "\n",
    "    st = set()\n",
    "    for i in range(len(A)):\n",
    "        if A[i] != 0:\n",
    "            st.add('A'+str(i+1))\n",
    "    \n",
    "    line_num = int(table[table.lemma==lemma_parent].index.values)\n",
    "    row = find_regexp_2(table.get_value(line_num, 'Polarity'))\n",
    "    \n",
    "    my_set=set()\n",
    "    for i in st:\n",
    "        for j in st:\n",
    "            if i != j:\n",
    "                my_set.add(i+', '+j)    #сет всех возможных комбинаций пар\n",
    "    result=list()    \n",
    "    for actants in row:\n",
    "        for combo in my_set:\n",
    "            if actants.find(combo) != -1:\n",
    "                polarity = actants.split(',')[2]\n",
    "                polarity = polarity[1:len(polarity)]\n",
    "                first = actants.split(',')[0]\n",
    "                first = first[1:len(first)]\n",
    "                second = actants.split(',')[1]\n",
    "                second = second[1:len(second)]\n",
    "                frs = A[int(first[1])-1]\n",
    "                scd = A[int(second[1])-1]\n",
    "                print(frs, scd, polarity)\n",
    "                #!!! вывожу результат на экран. правьте и делайте так, как вам удобно !!!\n",
    "                #если делать return frs, scd, polarity, то выводятся не все данные.\n",
    "    return result\n",
    "\n",
    "lst = [['31', '42', 'бомбит', 'VERB', 'Aspect=Imperf|VerbForm=Inf|fPOS=VERB++', '2', 'nsubj', 'бомбить'],       \n",
    "       ['78', '83', 'Сирии', 'NOUN', 'Animacy=Inan|Case=Acc|Gender=Fem|Number=Sing|fPOS=NOUN++', '10', 'dobj', 'сирия'],\n",
    "       ['107', '115', 'Румийлан', 'NOUN', 'Animacy=Inan|Case=Nom|Gender=Masc|Number=Sing|fPOS=NOUN++', '15', 'appos', 'румийлан']]\n",
    "\n",
    "parent = lst[0][len(lst[0])-1]  #лемма родителя\n",
    "\n",
    "l = table[table.lemma==u'атака'].empty #false есть в словаре = not l, true нет в словаре\n",
    "\n",
    "find_polar(lst[0], lst[1], lst[2])"
   ]
  }
 ],
 "metadata": {
  "kernelspec": {
   "display_name": "Python 3",
   "language": "python",
   "name": "python3"
  },
  "language_info": {
   "codemirror_mode": {
    "name": "ipython",
    "version": 3
   },
   "file_extension": ".py",
   "mimetype": "text/x-python",
   "name": "python",
   "nbconvert_exporter": "python",
   "pygments_lexer": "ipython3",
   "version": "3.6.0"
  }
 },
 "nbformat": 4,
 "nbformat_minor": 2
}
