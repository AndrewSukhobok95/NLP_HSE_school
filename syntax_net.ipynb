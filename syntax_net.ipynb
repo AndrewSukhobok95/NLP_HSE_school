{
 "cells": [
  {
   "cell_type": "code",
   "execution_count": 108,
   "metadata": {
    "collapsed": false
   },
   "outputs": [],
   "source": [
    "import pandas as pd\n",
    "from tqdm import tqdm_notebook as tqdm"
   ]
  },
  {
   "cell_type": "code",
   "execution_count": 113,
   "metadata": {
    "collapsed": false
   },
   "outputs": [],
   "source": [
    "from syntaxnet_wrapper import PipelineSyntaxNet\n",
    "host = 'localhost'\n",
    "port = 8111 # E.g.\n",
    "proc = PipelineSyntaxNet(host, port)\n",
    "\n",
    "def get_syntax(line,proc):\n",
    "    def res_to_array(result):\n",
    "        res=[]\n",
    "        for sent in result:\n",
    "            resent=[]\n",
    "            for word in sent:\n",
    "                resent.append(str(word))\n",
    "            res.append(resent)\n",
    "        return(res)\n",
    "    result = proc.process(line)\n",
    "    return(res_to_array(result))\n"
   ]
  },
  {
   "cell_type": "code",
   "execution_count": null,
   "metadata": {
    "collapsed": true
   },
   "outputs": [],
   "source": [
    "#seq\n",
    "for i in tqdm(range(1,46)):\n",
    "    if(i in [9,22,26]): continue\n",
    "    df = pd.read_csv(\"Texts/art{}.txt\".format(i),delimiter='\\n')\n",
    "    df.columns=['text']\n",
    "    df['text'] = df.text.str.replace('{Author, Unknown} ',\"\")\n",
    "    tqdm.pandas(desc=\"extracting syntax\")\n",
    "    df['syntax'] = df['text'].progress_apply(lambda x:get_syntax(x.decode('utf8'),proc))\n",
    "    df.to_json('Texts/art{}syn.json'.format(i))\n"
   ]
  }
 ],
 "metadata": {
  "kernelspec": {
   "display_name": "Python 2",
   "language": "python",
   "name": "python2"
  },
  "language_info": {
   "codemirror_mode": {
    "name": "ipython",
    "version": 2
   },
   "file_extension": ".py",
   "mimetype": "text/x-python",
   "name": "python",
   "nbconvert_exporter": "python",
   "pygments_lexer": "ipython2",
   "version": "2.7.13"
  }
 },
 "nbformat": 4,
 "nbformat_minor": 2
}
