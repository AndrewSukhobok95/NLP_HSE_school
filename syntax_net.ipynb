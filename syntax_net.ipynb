{
 "cells": [
  {
   "cell_type": "code",
   "execution_count": 4,
   "metadata": {
    "collapsed": false
   },
   "outputs": [],
   "source": [
    "import pandas as pd\n",
    "from tqdm import tqdm_notebook as tqdm"
   ]
  },
  {
   "cell_type": "code",
   "execution_count": 5,
   "metadata": {
    "collapsed": false
   },
   "outputs": [],
   "source": [
    "from syntaxnet_wrapper import PipelineSyntaxNet\n",
    "host = 'localhost'\n",
    "port = 8111 # E.g.\n",
    "proc = PipelineSyntaxNet(host, port)\n",
    "\n",
    "def get_syntax(line,proc):\n",
    "    def res_to_array(result):\n",
    "        res=[]\n",
    "        for sent in result:\n",
    "            resent=[]\n",
    "            for word in sent:\n",
    "                resent.append(str(word))\n",
    "            res.append(resent)\n",
    "        return(res)\n",
    "    result = proc.process(line)\n",
    "    return(res_to_array(result))\n"
   ]
  },
  {
   "cell_type": "code",
   "execution_count": null,
   "metadata": {
    "collapsed": false
   },
   "outputs": [
    {
     "name": "stdout",
     "output_type": "stream",
     "text": [
      "46\n",
      "47\n",
      "48\n",
      "49\n",
      "50\n",
      "51\n",
      "52\n",
      "53\n",
      "54\n",
      "55\n",
      "56\n",
      "57\n",
      "58\n",
      "59\n",
      "60\n",
      "61\n",
      "62\n",
      "63\n",
      "64\n",
      "65\n",
      "66\n"
     ]
    }
   ],
   "source": [
    "#seq\n",
    "for i in range(46,75):\n",
    "    print(i)\n",
    "    if(i in [70]): continue\n",
    "    \n",
    "    df = pd.read_csv(\"Texts/art{}.txt\".format(i),delimiter='\\n')\n",
    "    df.columns=['text']\n",
    "    df['text'] = df.text.str.replace('{Author, Unknown} ',\"\")\n",
    "    df['syntax'] = df['text'].apply(lambda x:get_syntax(x.decode('utf8'),proc))\n",
    "    df.to_json('Texts/art{}syn.json'.format(i))\n"
   ]
  },
  {
   "cell_type": "code",
   "execution_count": 103,
   "metadata": {
    "collapsed": false
   },
   "outputs": [
    {
     "data": {
      "text/plain": [
       "[['0',\n",
       "  '3',\n",
       "  'СМИ',\n",
       "  'NOUN',\n",
       "  'Animacy=Inan|Case=Nom|Gender=Neut|Number=Plur|fPOS=NOUN++',\n",
       "  '-1',\n",
       "  'ROOT',\n",
       "  'сми'],\n",
       " ['4',\n",
       "  '9',\n",
       "  'Ирана',\n",
       "  'NOUN',\n",
       "  'Animacy=Inan|Case=Gen|Gender=Masc|Number=Sing|fPOS=NOUN++',\n",
       "  '0',\n",
       "  'nmod',\n",
       "  'иран'],\n",
       " ['9', '10', ':', 'PUNCT', 'fPOS=PUNCT++:', '1', 'punct', ':\\n'],\n",
       " ['11',\n",
       "  '20',\n",
       "  'Финляндия',\n",
       "  'NOUN',\n",
       "  'Animacy=Inan|Case=Nom|Gender=Fem|Number=Sing|fPOS=NOUN++',\n",
       "  '5',\n",
       "  'nsubj',\n",
       "  'финляндия'],\n",
       " ['21', '23', 'не', 'PART', 'fPOS=PART++', '5', 'neg', 'не'],\n",
       " ['24',\n",
       "  '29',\n",
       "  'хочет',\n",
       "  'VERB',\n",
       "  'Aspect=Imp|Mood=Ind|Number=Sing|Person=3|Tense=Pres|VerbForm=Fin|Voice=Act|fPOS=VERB++',\n",
       "  '0',\n",
       "  'parataxis',\n",
       "  'хотеть'],\n",
       " ['30',\n",
       "  '38',\n",
       "  'вступать',\n",
       "  'VERB',\n",
       "  'Aspect=Imp|VerbForm=Inf|fPOS=VERB++',\n",
       "  '5',\n",
       "  'xcomp',\n",
       "  'вступать'],\n",
       " ['39', '40', 'в', 'ADP', 'fPOS=ADP++', '8', 'case', 'в'],\n",
       " ['41',\n",
       "  '45',\n",
       "  'НАТО',\n",
       "  'NOUN',\n",
       "  'Animacy=Inan|Case=Acc|Gender=Neut|Number=Sing|fPOS=NOUN++',\n",
       "  '6',\n",
       "  'dobj',\n",
       "  'нато'],\n",
       " ['46', '48', 'из', 'ADP', 'fPOS=ADP++', '10', 'case', 'из'],\n",
       " ['49',\n",
       "  '55',\n",
       "  'страха',\n",
       "  'NOUN',\n",
       "  'Animacy=Inan|Case=Gen|Gender=Masc|Number=Sing|fPOS=NOUN++',\n",
       "  '6',\n",
       "  'iobj',\n",
       "  'страх'],\n",
       " ['56', '61', 'перед', 'ADP', 'fPOS=ADP++', '12', 'case', 'перед'],\n",
       " ['62',\n",
       "  '69',\n",
       "  'Россией',\n",
       "  'NOUN',\n",
       "  'Animacy=Inan|Case=Ins|Gender=Fem|Number=Sing|fPOS=NOUN++',\n",
       "  '10',\n",
       "  'dobj',\n",
       "  'россия'],\n",
       " ['69', '70', '?', 'PUNCT', 'fPOS=PUNCT++?', '0', 'punct', '?']]"
      ]
     },
     "execution_count": 103,
     "metadata": {},
     "output_type": "execute_result"
    }
   ],
   "source": [
    "df['syntax'].iloc[0]"
   ]
  },
  {
   "cell_type": "code",
   "execution_count": 150,
   "metadata": {
    "collapsed": false
   },
   "outputs": [
    {
     "name": "stdout",
     "output_type": "stream",
     "text": [
      "0 3 | word_form: СМИ pos_tag: NOUN morph: Animacy=Inan|Case=Nom|Gender=Neut|Number=Plur|fPOS=NOUN++ parent -1 link_name: ROOT\n",
      "4 9 | word_form: Ирана pos_tag: NOUN morph: Animacy=Inan|Case=Gen|Gender=Masc|Number=Sing|fPOS=NOUN++ parent 0 link_name: nmod\n",
      "9 10 | word_form: : pos_tag: PUNCT morph: fPOS=PUNCT++: parent 1 link_name: punct\n",
      "11 20 | word_form: Финляндия pos_tag: NOUN morph: Animacy=Inan|Case=Nom|Gender=Fem|Number=Sing|fPOS=NOUN++ parent 5 link_name: nsubj\n",
      "21 23 | word_form: не pos_tag: PART morph: fPOS=PART++ parent 5 link_name: neg\n",
      "24 29 | word_form: хочет pos_tag: VERB morph: Aspect=Imp|Mood=Ind|Number=Sing|Person=3|Tense=Pres|VerbForm=Fin|Voice=Act|fPOS=VERB++ parent 0 link_name: parataxis\n",
      "30 38 | word_form: вступать pos_tag: VERB morph: Aspect=Imp|VerbForm=Inf|fPOS=VERB++ parent 5 link_name: xcomp\n",
      "39 40 | word_form: в pos_tag: ADP morph: fPOS=ADP++ parent 8 link_name: case\n",
      "41 45 | word_form: НАТО pos_tag: NOUN morph: Animacy=Inan|Case=Acc|Gender=Neut|Number=Sing|fPOS=NOUN++ parent 6 link_name: dobj\n",
      "46 48 | word_form: из pos_tag: ADP morph: fPOS=ADP++ parent 10 link_name: case\n",
      "49 55 | word_form: страха pos_tag: NOUN morph: Animacy=Inan|Case=Gen|Gender=Masc|Number=Sing|fPOS=NOUN++ parent 6 link_name: iobj\n",
      "56 61 | word_form: перед pos_tag: ADP morph: fPOS=ADP++ parent 12 link_name: case\n",
      "62 69 | word_form: Россией pos_tag: NOUN morph: Animacy=Inan|Case=Ins|Gender=Fem|Number=Sing|fPOS=NOUN++ parent 10 link_name: dobj\n",
      "69 70 | word_form: ? pos_tag: PUNCT morph: fPOS=PUNCT++? parent 0 link_name: punct\n"
     ]
    }
   ],
   "source": [
    "for text in df['syntax'].iloc[0]:\n",
    "    for word in text:\n",
    "        print(word)"
   ]
  }
 ],
 "metadata": {
  "kernelspec": {
   "display_name": "Python 2",
   "language": "python",
   "name": "python2"
  },
  "language_info": {
   "codemirror_mode": {
    "name": "ipython",
    "version": 2
   },
   "file_extension": ".py",
   "mimetype": "text/x-python",
   "name": "python",
   "nbconvert_exporter": "python",
   "pygments_lexer": "ipython2",
   "version": "2.7.13"
  }
 },
 "nbformat": 4,
 "nbformat_minor": 2
}
