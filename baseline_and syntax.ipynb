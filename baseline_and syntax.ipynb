{
 "cells": [
  {
   "cell_type": "markdown",
   "metadata": {},
   "source": [
    "# NLP HSE School"
   ]
  },
  {
   "cell_type": "code",
   "execution_count": null,
   "metadata": {
    "collapsed": true
   },
   "outputs": [],
   "source": []
  },
  {
   "cell_type": "code",
   "execution_count": 1,
   "metadata": {
    "collapsed": true
   },
   "outputs": [],
   "source": [
    "from pymystem3 import Mystem\n",
    "import pandas as pd\n",
    "import re\n",
    "m=Mystem()\n",
    "pd.set_option('display.width', 1000)\n",
    "pd.set_option('display.expand_frame_repr', False)"
   ]
  },
  {
   "cell_type": "code",
   "execution_count": 2,
   "metadata": {
    "collapsed": false
   },
   "outputs": [],
   "source": [
    "sentilex = pd.read_csv('RuSentiLex2017_revised_2utf.txt',\n",
    "                       names=['word','part','initial','sentiment','source','amb1','amb2'],\n",
    "                       skiprows=20,skipinitialspace=True,index_col=2)\n",
    "sentilex['sentiment'] = sentilex['sentiment'].map({'negative':-1,'positive':1,'neutral':0,'positive/negative':0})"
   ]
  },
  {
   "cell_type": "code",
   "execution_count": 3,
   "metadata": {
    "collapsed": false
   },
   "outputs": [],
   "source": [
    "vocab = sentilex.to_dict(orient='index')"
   ]
  },
  {
   "cell_type": "code",
   "execution_count": 4,
   "metadata": {
    "collapsed": false
   },
   "outputs": [],
   "source": [
    "\n",
    "def read_file(n):\n",
    "    file = pd.read_csv('Texts/art{}.txt'.format(n),sep='\\n',names=['lines'])\n",
    "    file.lines = file.lines.str.replace(\"{Author, Unknown} \",\"\")\n",
    "    \n",
    "    ent_df = pd.read_csv('Texts/art{}.ann'.format(n),sep='\\t',names=['ind','descr','ne'],header=None)\n",
    "    ent_df['initial'] = ent_df['ne'].apply(lambda x: (\"\".join(m.lemmatize(x.lower()))).replace('\\n',\"\"))\n",
    "    ent_df = ent_df.set_index(ent_df['ne'])\n",
    "    syn_df = pd.read_json('Texts/art{}syn.json'.format(n))\n",
    "\n",
    "    syn_df = syn_df.reset_index()\n",
    "    def get_struct_data(x):\n",
    "        sentl =[]\n",
    "        pars=[]\n",
    "        for text in x:\n",
    "            for sent in text:\n",
    "                sentl = sent.split(' ')\n",
    "                to_app = [sentl[i] for i in range(len(sentl)) if i in([0,1,4,6,8,10,12])]\n",
    "                to_app.append(m.lemmatize(to_app[2])[0])\n",
    "                pars.append(to_app)\n",
    "        return(pars)\n",
    "\n",
    "    syn_df['syntax'] = syn_df['syntax'].apply(get_struct_data)\n",
    "    \n",
    "    syn_df['index']=syn_df['index'] +1\n",
    "    file = file.reset_index().merge(syn_df)\n",
    "    return(file.drop('text',1), ent_df.to_dict(orient='index'))\n"
   ]
  },
  {
   "cell_type": "code",
   "execution_count": 5,
   "metadata": {
    "collapsed": false
   },
   "outputs": [],
   "source": [
    "text_lines, ent_dict = read_file(1)"
   ]
  },
  {
   "cell_type": "code",
   "execution_count": 6,
   "metadata": {
    "collapsed": true
   },
   "outputs": [],
   "source": [
    "#получение данных из синтаксиса\n",
    "def get_mutual_node(syntax,ent1,ent1pos,ent2,ent2pos):\n",
    "    \n",
    "    def get_node(e,p):\n",
    "        \n",
    "        e = e.split(\" \")[0].split(\"-\")[0]\n",
    "        ent_dict = dict()\n",
    "        for i in range(len(syntax)):\n",
    "            if(syntax[i][2]==e):\n",
    "                \n",
    "                ent_dict[abs(int(syntax[i][1])-p)]=i\n",
    "        \n",
    "        return ent_dict[sorted(ent_dict)[0]]\n",
    "    def get_route(i):\n",
    "        route = list()\n",
    "        for _ in range(len(syntax)):\n",
    "            h=int(syntax[i][5])\n",
    "            if(h ==-1): return route\n",
    "            route.append(syntax[h])\n",
    "            i=h\n",
    "    ent_node1 = get_node(ent1,ent1pos)\n",
    "    ent_node2 = get_node(ent2,ent2pos)\n",
    "    \n",
    "    route1= get_route(ent_node1)[::-1]\n",
    "    route2= get_route(ent_node2)[::-1]\n",
    "    if(len(route1)==0): return syntax[ent_node1],syntax[ent_node1],syntax[ent_node2]\n",
    "    if(len(route2)==0): return syntax[ent_node2],syntax[ent_node1],syntax[ent_node2]\n",
    "\n",
    "    for i in range(min(len(route1),len(route2))):\n",
    "        \n",
    "        if(route1[i][0]==route2[i][0]): obj=route1[i]\n",
    "        else: break\n",
    "    \n",
    "    \n",
    "    return obj,syntax[ent_node1],syntax[ent_node2]"
   ]
  },
  {
   "cell_type": "code",
   "execution_count": 11,
   "metadata": {
    "collapsed": false
   },
   "outputs": [],
   "source": [
    "import re\n",
    "import nltk\n",
    "from nltk import ngrams as ng\n",
    "def get_sent_list(lemmas):\n",
    "    sent_list = []\n",
    "    string = \"\".join(lemmas)\n",
    "    for i in reversed(range(1,min(11,len(lemmas)))):\n",
    "        ngrams = ng(lemmas,i)\n",
    "        for ngram in ngrams:\n",
    "            subs = \"\".join(list(ngram))\n",
    "            if(subs in vocab): \n",
    "                sent_list.append(vocab[subs]['sentiment'])\n",
    "                lemmas = m.lemmatize(string.replace(subs,\"\"))\n",
    "    return sent_list\n",
    "\n",
    "def sentiment_extraction(x,ent_dict):\n",
    "    line = x['lines']\n",
    "    syntax = x['syntax']\n",
    "    ne_list = []\n",
    "    for ne in ent_dict.keys():\n",
    "        regex= re.compile(r\"\\b{}\\b\".format(re.escape(ne)),flags=re.UNICODE)\n",
    "        for pos in ([m.start(0) for m in re.finditer(regex, line)]):\n",
    "            ne_list.append((ne,pos))\n",
    "    ne_pairs  = [(ne1,ne2) for ne1 in ne_list for ne2 in ne_list if ne1 != ne2]\n",
    "    \n",
    "    for ((ne1, ne1_pos), (ne2,ne2_pos)) in ne_pairs:\n",
    "        x['mutual'] = get_mutual_node(syntax,ne1, ne1_pos, ne2, ne2_pos)\n",
    "                   \n",
    "    x['ne_pairs'] = ne_pairs\n",
    "    \n",
    "    x['ne_substrings'] = [(ne1,ne2,line[pos1+len(ne1):pos2]) for (ne1,pos1),(ne2,pos2) in ne_pairs if pos2>pos1+10]\n",
    "    \n",
    "    sent_list = list()\n",
    "    for ne1,ne2,subs in x['ne_substrings']:\n",
    "        sent_list.append((ne1,ne2,get_sent_list(m.lemmatize(subs))))\n",
    "    x['sent_list'] = sent_list\n",
    "    \n",
    "    return(x)"
   ]
  },
  {
   "cell_type": "code",
   "execution_count": 12,
   "metadata": {
    "collapsed": false
   },
   "outputs": [],
   "source": [
    "#считывание и извлечение\n",
    "text_lines, ent_dict = read_file(1)\n",
    "\n",
    "text_lines = text_lines.apply(lambda x:sentiment_extraction(x,ent_dict),axis=1)[['ne_pairs','ne_substrings','sent_list']]"
   ]
  },
  {
   "cell_type": "code",
   "execution_count": 13,
   "metadata": {
    "collapsed": false
   },
   "outputs": [
    {
     "data": {
      "text/plain": [
       "0     {('сми', 'финляндия'): 0, ('сми', 'нато'): -1,...\n",
       "1                                                    {}\n",
       "2                                                    {}\n",
       "3     {('сирия', 'румийлан'): 0, ('сирия', 'khorasan...\n",
       "4                                                    {}\n",
       "5     {('пентагон', 'сша'): 0, ('пентагон', 'игила')...\n",
       "6     {('дамаск', 'сирия'): -2, ('дамаск', 'вашингто...\n",
       "7     {('москва', 'дамаск'): 0, ('москва', 'белый до...\n",
       "8     {('сирия', 'сша'): 0, ('сирия', 'вашингтон'): ...\n",
       "9     {('сирия', 'иго'): -6, ('сирия', 'обама'): -1,...\n",
       "10                     {('обама', 'ближний восток'): 2}\n",
       "11    {('ракка', 'иго'): 0, ('вкс', 'ракка'): 0, ('в...\n",
       "12                                                   {}\n",
       "13                                                   {}\n",
       "14                            {('дамаск', 'резах'): -1}\n",
       "15    {('белый дом', 'москва'): -2, ('белый дом', 'д...\n",
       "16    {('сми', 'сирия'): -1, ('сми', 'москва'): -1, ...\n",
       "17          {('сша', 'дамаск'): 0, ('рф', 'дамаск'): 0}\n",
       "18    {('минобороны', 'мид'): 0, ('минобороны', 'хал...\n",
       "19    {('мид', 'вашингтон'): 3, ('джон керри', 'ваши...\n",
       "20    {('асад', 'рф'): -1, ('асад', 'алеппо'): 0, ('...\n",
       "21    {('сша', 'вашингтон'): 0, ('сша', 'дамаск'): -...\n",
       "22                           {('россия', 'resalat'): 0}\n",
       "23    {('асад', 'алеппо'): -1, ('мид', 'асад'): 0, (...\n",
       "24    {('javan', 'сирия'): 0, ('javan', 'россия'): 0...\n",
       "25                            {('алеппо', 'россия'): 0}\n",
       "26    {('сирия', 'рф'): 0, ('сирия', 'россия'): 0, (...\n",
       "27    {('сша', 'khorasan'): -1, ('сша', 'корейский п...\n",
       "28    {('вашингтон', 'корейский полуостров'): -1, ('...\n",
       "29    {('сша', 'республика корея'): 0, ('россия', 'с...\n",
       "30    {('россия', 'польша'): 0, ('россия', 'балтия')...\n",
       "31    {('нато', 'сша'): 0, ('нато', 'великобритания'...\n",
       "32    {('нато', 'рф'): 0, ('нато', 'россия'): 1, ('н...\n",
       "33    {('нато', 'россия'): -2, ('москва', 'нато'): 1...\n",
       "34                                                   {}\n",
       "35                              {('нато', 'европа'): 0}\n",
       "36                         {('финляндия', 'россия'): 0}\n",
       "37                                                   {}\n",
       "38    {('keyhan', 'нато'): 1, ('keyhan', 'финляндия'...\n",
       "39                                                   {}\n",
       "40    {('сша', 'resalat'): 0, ('республика корея', '...\n",
       "41                                                   {}\n",
       "42    {('сирия', 'украина'): 0, ('сирия', 'америка')...\n",
       "43    {('сша', 'россия'): -1, ('сша', 'европа'): 0, ...\n",
       "44                                                   {}\n",
       "45    {('нато', 'resalat'): -1, ('нато', 'ири'): -1,...\n",
       "46                             {('россия', 'javan'): 0}\n",
       "47    {('москва', 'мвд'): 0, ('москва', 'республика ...\n",
       "48                                                   {}\n",
       "49    {('сша', 'resalat'): -1, ('сша', 'фрг'): -1, (...\n",
       "50    {('алеми', 'сша'): -2, ('алеми', 'россия'): -2...\n",
       "51    {('мид', 'сша'): 1, ('мид', 'трамп'): 0, ('але...\n",
       "52    {('тегеран', 'keyhan'): 2, ('дамаск', 'keyhan'...\n",
       "53    {('сирия', 'иран'): 0, ('сирия', 'россия'): 0,...\n",
       "54                                                   {}\n",
       "Name: summed, dtype: object"
      ]
     },
     "execution_count": 13,
     "metadata": {},
     "output_type": "execute_result"
    }
   ],
   "source": [
    "def get_summed_over_sent(sent_list):\n",
    "    sdict = dict()\n",
    "    for ne1,ne2,slist in sent_list:\n",
    "        if (ne1,ne2) in sdict:sdict[(ent_dict[ne1]['initial'],ent_dict[ne2]['initial'])]+=sum(slist)\n",
    "        else: sdict[(ent_dict[ne1]['initial'],ent_dict[ne2]['initial'])]=sum(slist) \n",
    "    return sdict\n",
    "text_lines['summed'] =  text_lines['sent_list'].apply(get_summed_over_sent)\n",
    "text_lines['summed']"
   ]
  },
  {
   "cell_type": "code",
   "execution_count": 14,
   "metadata": {
    "collapsed": false
   },
   "outputs": [
    {
     "data": {
      "text/html": [
       "<div>\n",
       "<table border=\"1\" class=\"dataframe\">\n",
       "  <thead>\n",
       "    <tr style=\"text-align: right;\">\n",
       "      <th></th>\n",
       "      <th>ne1</th>\n",
       "      <th>ne2</th>\n",
       "      <th>sent</th>\n",
       "    </tr>\n",
       "  </thead>\n",
       "  <tbody>\n",
       "    <tr>\n",
       "      <th>0</th>\n",
       "      <td>сми</td>\n",
       "      <td>финляндия</td>\n",
       "      <td>0</td>\n",
       "    </tr>\n",
       "    <tr>\n",
       "      <th>1</th>\n",
       "      <td>сми</td>\n",
       "      <td>нато</td>\n",
       "      <td>-1</td>\n",
       "    </tr>\n",
       "    <tr>\n",
       "      <th>2</th>\n",
       "      <td>сми</td>\n",
       "      <td>россия</td>\n",
       "      <td>-2</td>\n",
       "    </tr>\n",
       "    <tr>\n",
       "      <th>3</th>\n",
       "      <td>иран</td>\n",
       "      <td>нато</td>\n",
       "      <td>-1</td>\n",
       "    </tr>\n",
       "    <tr>\n",
       "      <th>4</th>\n",
       "      <td>иран</td>\n",
       "      <td>россия</td>\n",
       "      <td>-2</td>\n",
       "    </tr>\n",
       "    <tr>\n",
       "      <th>5</th>\n",
       "      <td>финляндия</td>\n",
       "      <td>нато</td>\n",
       "      <td>0</td>\n",
       "    </tr>\n",
       "    <tr>\n",
       "      <th>6</th>\n",
       "      <td>финляндия</td>\n",
       "      <td>россия</td>\n",
       "      <td>-2</td>\n",
       "    </tr>\n",
       "    <tr>\n",
       "      <th>7</th>\n",
       "      <td>нато</td>\n",
       "      <td>россия</td>\n",
       "      <td>-2</td>\n",
       "    </tr>\n",
       "    <tr>\n",
       "      <th>8</th>\n",
       "      <td>сирия</td>\n",
       "      <td>румийлан</td>\n",
       "      <td>0</td>\n",
       "    </tr>\n",
       "    <tr>\n",
       "      <th>9</th>\n",
       "      <td>сирия</td>\n",
       "      <td>khorasan</td>\n",
       "      <td>0</td>\n",
       "    </tr>\n",
       "    <tr>\n",
       "      <th>10</th>\n",
       "      <td>румийлан</td>\n",
       "      <td>khorasan</td>\n",
       "      <td>0</td>\n",
       "    </tr>\n",
       "    <tr>\n",
       "      <th>11</th>\n",
       "      <td>пентагон</td>\n",
       "      <td>сша</td>\n",
       "      <td>0</td>\n",
       "    </tr>\n",
       "    <tr>\n",
       "      <th>12</th>\n",
       "      <td>пентагон</td>\n",
       "      <td>игила</td>\n",
       "      <td>1</td>\n",
       "    </tr>\n",
       "    <tr>\n",
       "      <th>13</th>\n",
       "      <td>пентагон</td>\n",
       "      <td>ракка</td>\n",
       "      <td>2</td>\n",
       "    </tr>\n",
       "    <tr>\n",
       "      <th>14</th>\n",
       "      <td>сша</td>\n",
       "      <td>игила</td>\n",
       "      <td>1</td>\n",
       "    </tr>\n",
       "    <tr>\n",
       "      <th>15</th>\n",
       "      <td>сша</td>\n",
       "      <td>ракка</td>\n",
       "      <td>2</td>\n",
       "    </tr>\n",
       "    <tr>\n",
       "      <th>16</th>\n",
       "      <td>игила</td>\n",
       "      <td>ракка</td>\n",
       "      <td>1</td>\n",
       "    </tr>\n",
       "    <tr>\n",
       "      <th>17</th>\n",
       "      <td>дамаск</td>\n",
       "      <td>сирия</td>\n",
       "      <td>-2</td>\n",
       "    </tr>\n",
       "    <tr>\n",
       "      <th>18</th>\n",
       "      <td>дамаск</td>\n",
       "      <td>вашингтон</td>\n",
       "      <td>0</td>\n",
       "    </tr>\n",
       "    <tr>\n",
       "      <th>19</th>\n",
       "      <td>вашингтон</td>\n",
       "      <td>сирия</td>\n",
       "      <td>-2</td>\n",
       "    </tr>\n",
       "    <tr>\n",
       "      <th>20</th>\n",
       "      <td>москва</td>\n",
       "      <td>дамаск</td>\n",
       "      <td>-2</td>\n",
       "    </tr>\n",
       "    <tr>\n",
       "      <th>21</th>\n",
       "      <td>москва</td>\n",
       "      <td>белый дом</td>\n",
       "      <td>0</td>\n",
       "    </tr>\n",
       "    <tr>\n",
       "      <th>22</th>\n",
       "      <td>дамаск</td>\n",
       "      <td>белый дом</td>\n",
       "      <td>0</td>\n",
       "    </tr>\n",
       "    <tr>\n",
       "      <th>23</th>\n",
       "      <td>сирия</td>\n",
       "      <td>сша</td>\n",
       "      <td>0</td>\n",
       "    </tr>\n",
       "    <tr>\n",
       "      <th>24</th>\n",
       "      <td>сирия</td>\n",
       "      <td>вашингтон</td>\n",
       "      <td>2</td>\n",
       "    </tr>\n",
       "    <tr>\n",
       "      <th>25</th>\n",
       "      <td>сирия</td>\n",
       "      <td>резах</td>\n",
       "      <td>0</td>\n",
       "    </tr>\n",
       "    <tr>\n",
       "      <th>26</th>\n",
       "      <td>сша</td>\n",
       "      <td>резах</td>\n",
       "      <td>0</td>\n",
       "    </tr>\n",
       "    <tr>\n",
       "      <th>27</th>\n",
       "      <td>дамаск</td>\n",
       "      <td>сша</td>\n",
       "      <td>0</td>\n",
       "    </tr>\n",
       "    <tr>\n",
       "      <th>28</th>\n",
       "      <td>дамаск</td>\n",
       "      <td>иго</td>\n",
       "      <td>0</td>\n",
       "    </tr>\n",
       "    <tr>\n",
       "      <th>29</th>\n",
       "      <td>дамаск</td>\n",
       "      <td>резах</td>\n",
       "      <td>-1</td>\n",
       "    </tr>\n",
       "    <tr>\n",
       "      <th>...</th>\n",
       "      <td>...</td>\n",
       "      <td>...</td>\n",
       "      <td>...</td>\n",
       "    </tr>\n",
       "    <tr>\n",
       "      <th>290</th>\n",
       "      <td>премьер-министр италия</td>\n",
       "      <td>германия</td>\n",
       "      <td>0</td>\n",
       "    </tr>\n",
       "    <tr>\n",
       "      <th>291</th>\n",
       "      <td>премьер-министр италия</td>\n",
       "      <td>вальтер штайнмайер</td>\n",
       "      <td>0</td>\n",
       "    </tr>\n",
       "    <tr>\n",
       "      <th>292</th>\n",
       "      <td>премьер-министр италия</td>\n",
       "      <td>али алеми (ali alemi</td>\n",
       "      <td>0</td>\n",
       "    </tr>\n",
       "    <tr>\n",
       "      <th>293</th>\n",
       "      <td>премьер-министр италия</td>\n",
       "      <td>алеми</td>\n",
       "      <td>0</td>\n",
       "    </tr>\n",
       "    <tr>\n",
       "      <th>294</th>\n",
       "      <td>алеми</td>\n",
       "      <td>сша</td>\n",
       "      <td>-1</td>\n",
       "    </tr>\n",
       "    <tr>\n",
       "      <th>295</th>\n",
       "      <td>алеми</td>\n",
       "      <td>россия</td>\n",
       "      <td>-2</td>\n",
       "    </tr>\n",
       "    <tr>\n",
       "      <th>296</th>\n",
       "      <td>алеми</td>\n",
       "      <td>трамп</td>\n",
       "      <td>-1</td>\n",
       "    </tr>\n",
       "    <tr>\n",
       "      <th>297</th>\n",
       "      <td>трамп</td>\n",
       "      <td>россия</td>\n",
       "      <td>-1</td>\n",
       "    </tr>\n",
       "    <tr>\n",
       "      <th>298</th>\n",
       "      <td>мид</td>\n",
       "      <td>сша</td>\n",
       "      <td>1</td>\n",
       "    </tr>\n",
       "    <tr>\n",
       "      <th>299</th>\n",
       "      <td>мид</td>\n",
       "      <td>трамп</td>\n",
       "      <td>0</td>\n",
       "    </tr>\n",
       "    <tr>\n",
       "      <th>300</th>\n",
       "      <td>алеми</td>\n",
       "      <td>мид</td>\n",
       "      <td>0</td>\n",
       "    </tr>\n",
       "    <tr>\n",
       "      <th>301</th>\n",
       "      <td>алеми</td>\n",
       "      <td>глава немецкий мид</td>\n",
       "      <td>0</td>\n",
       "    </tr>\n",
       "    <tr>\n",
       "      <th>302</th>\n",
       "      <td>глава немецкий мид</td>\n",
       "      <td>сша</td>\n",
       "      <td>1</td>\n",
       "    </tr>\n",
       "    <tr>\n",
       "      <th>303</th>\n",
       "      <td>глава немецкий мид</td>\n",
       "      <td>мид</td>\n",
       "      <td>0</td>\n",
       "    </tr>\n",
       "    <tr>\n",
       "      <th>304</th>\n",
       "      <td>глава немецкий мид</td>\n",
       "      <td>трамп</td>\n",
       "      <td>0</td>\n",
       "    </tr>\n",
       "    <tr>\n",
       "      <th>305</th>\n",
       "      <td>тегеран</td>\n",
       "      <td>keyhan</td>\n",
       "      <td>2</td>\n",
       "    </tr>\n",
       "    <tr>\n",
       "      <th>306</th>\n",
       "      <td>дамаск</td>\n",
       "      <td>keyhan</td>\n",
       "      <td>2</td>\n",
       "    </tr>\n",
       "    <tr>\n",
       "      <th>307</th>\n",
       "      <td>сирия</td>\n",
       "      <td>иран</td>\n",
       "      <td>0</td>\n",
       "    </tr>\n",
       "    <tr>\n",
       "      <th>308</th>\n",
       "      <td>сирия</td>\n",
       "      <td>хоссам аль-саед</td>\n",
       "      <td>0</td>\n",
       "    </tr>\n",
       "    <tr>\n",
       "      <th>309</th>\n",
       "      <td>сирия</td>\n",
       "      <td>карлуш кейруш</td>\n",
       "      <td>0</td>\n",
       "    </tr>\n",
       "    <tr>\n",
       "      <th>310</th>\n",
       "      <td>россия</td>\n",
       "      <td>иран</td>\n",
       "      <td>0</td>\n",
       "    </tr>\n",
       "    <tr>\n",
       "      <th>311</th>\n",
       "      <td>россия</td>\n",
       "      <td>хоссам аль-саед</td>\n",
       "      <td>0</td>\n",
       "    </tr>\n",
       "    <tr>\n",
       "      <th>312</th>\n",
       "      <td>россия</td>\n",
       "      <td>карлуш кейруш</td>\n",
       "      <td>0</td>\n",
       "    </tr>\n",
       "    <tr>\n",
       "      <th>313</th>\n",
       "      <td>иран</td>\n",
       "      <td>иран</td>\n",
       "      <td>0</td>\n",
       "    </tr>\n",
       "    <tr>\n",
       "      <th>314</th>\n",
       "      <td>иран</td>\n",
       "      <td>хоссам аль-саед</td>\n",
       "      <td>0</td>\n",
       "    </tr>\n",
       "    <tr>\n",
       "      <th>315</th>\n",
       "      <td>иран</td>\n",
       "      <td>карлуш кейруш</td>\n",
       "      <td>0</td>\n",
       "    </tr>\n",
       "    <tr>\n",
       "      <th>316</th>\n",
       "      <td>хоссам аль-саед</td>\n",
       "      <td>иран</td>\n",
       "      <td>0</td>\n",
       "    </tr>\n",
       "    <tr>\n",
       "      <th>317</th>\n",
       "      <td>хоссам аль-саед</td>\n",
       "      <td>россия</td>\n",
       "      <td>0</td>\n",
       "    </tr>\n",
       "    <tr>\n",
       "      <th>318</th>\n",
       "      <td>хоссам аль-саед</td>\n",
       "      <td>карлуш кейруш</td>\n",
       "      <td>0</td>\n",
       "    </tr>\n",
       "    <tr>\n",
       "      <th>319</th>\n",
       "      <td>карлуш кейруш</td>\n",
       "      <td>иран</td>\n",
       "      <td>0</td>\n",
       "    </tr>\n",
       "  </tbody>\n",
       "</table>\n",
       "<p>320 rows × 3 columns</p>\n",
       "</div>"
      ],
      "text/plain": [
       "                        ne1                   ne2  sent\n",
       "0                       сми             финляндия     0\n",
       "1                       сми                  нато    -1\n",
       "2                       сми                россия    -2\n",
       "3                      иран                  нато    -1\n",
       "4                      иран                россия    -2\n",
       "5                 финляндия                  нато     0\n",
       "6                 финляндия                россия    -2\n",
       "7                      нато                россия    -2\n",
       "8                     сирия              румийлан     0\n",
       "9                     сирия              khorasan     0\n",
       "10                 румийлан              khorasan     0\n",
       "11                 пентагон                   сша     0\n",
       "12                 пентагон                 игила     1\n",
       "13                 пентагон                 ракка     2\n",
       "14                      сша                 игила     1\n",
       "15                      сша                 ракка     2\n",
       "16                    игила                 ракка     1\n",
       "17                   дамаск                 сирия    -2\n",
       "18                   дамаск             вашингтон     0\n",
       "19                вашингтон                 сирия    -2\n",
       "20                   москва                дамаск    -2\n",
       "21                   москва             белый дом     0\n",
       "22                   дамаск             белый дом     0\n",
       "23                    сирия                   сша     0\n",
       "24                    сирия             вашингтон     2\n",
       "25                    сирия                 резах     0\n",
       "26                      сша                 резах     0\n",
       "27                   дамаск                   сша     0\n",
       "28                   дамаск                   иго     0\n",
       "29                   дамаск                 резах    -1\n",
       "..                      ...                   ...   ...\n",
       "290  премьер-министр италия              германия     0\n",
       "291  премьер-министр италия    вальтер штайнмайер     0\n",
       "292  премьер-министр италия  али алеми (ali alemi     0\n",
       "293  премьер-министр италия                 алеми     0\n",
       "294                   алеми                   сша    -1\n",
       "295                   алеми                россия    -2\n",
       "296                   алеми                 трамп    -1\n",
       "297                   трамп                россия    -1\n",
       "298                     мид                   сша     1\n",
       "299                     мид                 трамп     0\n",
       "300                   алеми                   мид     0\n",
       "301                   алеми    глава немецкий мид     0\n",
       "302      глава немецкий мид                   сша     1\n",
       "303      глава немецкий мид                   мид     0\n",
       "304      глава немецкий мид                 трамп     0\n",
       "305                 тегеран                keyhan     2\n",
       "306                  дамаск                keyhan     2\n",
       "307                   сирия                  иран     0\n",
       "308                   сирия       хоссам аль-саед     0\n",
       "309                   сирия         карлуш кейруш     0\n",
       "310                  россия                  иран     0\n",
       "311                  россия       хоссам аль-саед     0\n",
       "312                  россия         карлуш кейруш     0\n",
       "313                    иран                  иран     0\n",
       "314                    иран       хоссам аль-саед     0\n",
       "315                    иран         карлуш кейруш     0\n",
       "316         хоссам аль-саед                  иран     0\n",
       "317         хоссам аль-саед                россия     0\n",
       "318         хоссам аль-саед         карлуш кейруш     0\n",
       "319           карлуш кейруш                  иран     0\n",
       "\n",
       "[320 rows x 3 columns]"
      ]
     },
     "execution_count": 14,
     "metadata": {},
     "output_type": "execute_result"
    }
   ],
   "source": [
    "opinions = dict()\n",
    "def get_summed(sent_list):\n",
    "        for k in sent_list.keys():\n",
    "            if k in opinions : opinions[k]+=sent_list[k]\n",
    "            else: opinions[k]=sent_list[k]\n",
    "            \n",
    "_ = text_lines['summed'].apply(get_summed)\n",
    "df = pd.DataFrame([(ne1,ne2,opinions[(ne1,ne2)]) for (ne1,ne2) in opinions.keys()],columns=['ne1','ne2','sent'])\n",
    "df"
   ]
  },
  {
   "cell_type": "code",
   "execution_count": 15,
   "metadata": {
    "collapsed": false
   },
   "outputs": [],
   "source": [
    "df['sent'] = df['sent'].apply(lambda x: 'negative' if x<0 else ('positive' if x>0 else None))\n"
   ]
  },
  {
   "cell_type": "code",
   "execution_count": 16,
   "metadata": {
    "collapsed": false
   },
   "outputs": [],
   "source": [
    "df[~df['sent'].isnull()].to_csv('Texts/1.csv',index=False,header=False)"
   ]
  },
  {
   "cell_type": "code",
   "execution_count": 28,
   "metadata": {
    "collapsed": false
   },
   "outputs": [
    {
     "name": "stderr",
     "output_type": "stream",
     "text": [
      "\n",
      "  0%|          | 0/45 [00:00<?, ?it/s]\u001b[A"
     ]
    },
    {
     "name": "stdout",
     "output_type": "stream",
     "text": [
      "1\n"
     ]
    },
    {
     "name": "stderr",
     "output_type": "stream",
     "text": [
      "\n",
      "\r",
      "  2%|▏         | 1/45 [00:00<00:36,  1.20it/s]"
     ]
    },
    {
     "name": "stdout",
     "output_type": "stream",
     "text": [
      "2\n"
     ]
    },
    {
     "name": "stderr",
     "output_type": "stream",
     "text": [
      "\r",
      "  4%|▍         | 2/45 [00:01<00:29,  1.44it/s]"
     ]
    },
    {
     "name": "stdout",
     "output_type": "stream",
     "text": [
      "3\n"
     ]
    },
    {
     "name": "stderr",
     "output_type": "stream",
     "text": [
      "\r",
      "  7%|▋         | 3/45 [00:01<00:25,  1.63it/s]"
     ]
    },
    {
     "name": "stdout",
     "output_type": "stream",
     "text": [
      "4\n"
     ]
    },
    {
     "name": "stderr",
     "output_type": "stream",
     "text": [
      "\r",
      "  9%|▉         | 4/45 [00:02<00:24,  1.68it/s]"
     ]
    },
    {
     "name": "stdout",
     "output_type": "stream",
     "text": [
      "5\n"
     ]
    },
    {
     "name": "stderr",
     "output_type": "stream",
     "text": [
      "\r",
      " 11%|█         | 5/45 [00:02<00:22,  1.76it/s]"
     ]
    },
    {
     "name": "stdout",
     "output_type": "stream",
     "text": [
      "6\n"
     ]
    },
    {
     "name": "stderr",
     "output_type": "stream",
     "text": [
      " 16%|█▌        | 7/45 [00:03<00:14,  2.60it/s]"
     ]
    },
    {
     "name": "stdout",
     "output_type": "stream",
     "text": [
      "7\n",
      "8\n"
     ]
    },
    {
     "name": "stderr",
     "output_type": "stream",
     "text": [
      "\r",
      " 18%|█▊        | 8/45 [00:03<00:13,  2.68it/s]"
     ]
    },
    {
     "name": "stdout",
     "output_type": "stream",
     "text": [
      "10\n"
     ]
    },
    {
     "name": "stderr",
     "output_type": "stream",
     "text": [
      "\r",
      " 22%|██▏       | 10/45 [00:04<00:15,  2.28it/s]"
     ]
    },
    {
     "name": "stdout",
     "output_type": "stream",
     "text": [
      "11\n"
     ]
    },
    {
     "name": "stderr",
     "output_type": "stream",
     "text": [
      "\r",
      " 24%|██▍       | 11/45 [00:05<00:14,  2.39it/s]"
     ]
    },
    {
     "name": "stdout",
     "output_type": "stream",
     "text": [
      "12\n"
     ]
    },
    {
     "name": "stderr",
     "output_type": "stream",
     "text": [
      "\r",
      " 27%|██▋       | 12/45 [00:05<00:13,  2.44it/s]"
     ]
    },
    {
     "name": "stdout",
     "output_type": "stream",
     "text": [
      "13\n"
     ]
    },
    {
     "name": "stderr",
     "output_type": "stream",
     "text": [
      "\r",
      " 29%|██▉       | 13/45 [00:05<00:13,  2.46it/s]"
     ]
    },
    {
     "name": "stdout",
     "output_type": "stream",
     "text": [
      "14\n"
     ]
    },
    {
     "name": "stderr",
     "output_type": "stream",
     "text": [
      "\r",
      " 31%|███       | 14/45 [00:07<00:23,  1.30it/s]"
     ]
    },
    {
     "name": "stdout",
     "output_type": "stream",
     "text": [
      "15\n"
     ]
    },
    {
     "name": "stderr",
     "output_type": "stream",
     "text": [
      "\r",
      " 33%|███▎      | 15/45 [00:07<00:20,  1.43it/s]"
     ]
    },
    {
     "name": "stdout",
     "output_type": "stream",
     "text": [
      "16\n"
     ]
    },
    {
     "name": "stderr",
     "output_type": "stream",
     "text": [
      "\r",
      " 36%|███▌      | 16/45 [00:08<00:16,  1.81it/s]"
     ]
    },
    {
     "name": "stdout",
     "output_type": "stream",
     "text": [
      "17\n"
     ]
    },
    {
     "name": "stderr",
     "output_type": "stream",
     "text": [
      "\r",
      " 38%|███▊      | 17/45 [00:08<00:14,  1.94it/s]"
     ]
    },
    {
     "name": "stdout",
     "output_type": "stream",
     "text": [
      "19\n"
     ]
    },
    {
     "name": "stderr",
     "output_type": "stream",
     "text": [
      "\r",
      " 42%|████▏     | 19/45 [00:09<00:11,  2.34it/s]"
     ]
    },
    {
     "name": "stdout",
     "output_type": "stream",
     "text": [
      "20\n"
     ]
    },
    {
     "name": "stderr",
     "output_type": "stream",
     "text": [
      "\r",
      " 44%|████▍     | 20/45 [00:09<00:09,  2.61it/s]"
     ]
    },
    {
     "name": "stdout",
     "output_type": "stream",
     "text": [
      "21\n"
     ]
    },
    {
     "name": "stderr",
     "output_type": "stream",
     "text": [
      "\r",
      " 47%|████▋     | 21/45 [00:09<00:11,  2.13it/s]"
     ]
    },
    {
     "name": "stdout",
     "output_type": "stream",
     "text": [
      "23\n"
     ]
    },
    {
     "name": "stderr",
     "output_type": "stream",
     "text": [
      "\r",
      " 51%|█████     | 23/45 [00:10<00:08,  2.56it/s]"
     ]
    },
    {
     "name": "stdout",
     "output_type": "stream",
     "text": [
      "24\n"
     ]
    },
    {
     "name": "stderr",
     "output_type": "stream",
     "text": [
      "\r",
      " 53%|█████▎    | 24/45 [00:10<00:09,  2.25it/s]"
     ]
    },
    {
     "name": "stdout",
     "output_type": "stream",
     "text": [
      "27\n"
     ]
    },
    {
     "name": "stderr",
     "output_type": "stream",
     "text": [
      "\r",
      " 60%|██████    | 27/45 [00:11<00:06,  2.70it/s]"
     ]
    },
    {
     "name": "stdout",
     "output_type": "stream",
     "text": [
      "28\n"
     ]
    },
    {
     "name": "stderr",
     "output_type": "stream",
     "text": [
      "\r",
      " 62%|██████▏   | 28/45 [00:12<00:07,  2.37it/s]"
     ]
    },
    {
     "name": "stdout",
     "output_type": "stream",
     "text": [
      "29\n"
     ]
    },
    {
     "name": "stderr",
     "output_type": "stream",
     "text": [
      "\r",
      " 64%|██████▍   | 29/45 [00:12<00:05,  2.70it/s]"
     ]
    },
    {
     "name": "stdout",
     "output_type": "stream",
     "text": [
      "30\n"
     ]
    },
    {
     "name": "stderr",
     "output_type": "stream",
     "text": [
      " 69%|██████▉   | 31/45 [00:12<00:04,  3.29it/s]"
     ]
    },
    {
     "name": "stdout",
     "output_type": "stream",
     "text": [
      "31\n",
      "32\n"
     ]
    },
    {
     "name": "stderr",
     "output_type": "stream",
     "text": [
      "\r",
      " 71%|███████   | 32/45 [00:13<00:06,  2.06it/s]"
     ]
    },
    {
     "name": "stdout",
     "output_type": "stream",
     "text": [
      "33\n"
     ]
    },
    {
     "name": "stderr",
     "output_type": "stream",
     "text": [
      "\r",
      " 73%|███████▎  | 33/45 [00:14<00:05,  2.18it/s]"
     ]
    },
    {
     "name": "stdout",
     "output_type": "stream",
     "text": [
      "34\n"
     ]
    },
    {
     "name": "stderr",
     "output_type": "stream",
     "text": [
      "\r",
      " 76%|███████▌  | 34/45 [00:14<00:04,  2.25it/s]"
     ]
    },
    {
     "name": "stdout",
     "output_type": "stream",
     "text": [
      "35\n"
     ]
    },
    {
     "ename": "IndexError",
     "evalue": "('list index out of range', 'occurred at index 29')",
     "output_type": "error",
     "traceback": [
      "\u001b[0;31m---------------------------------------------------------------------------\u001b[0m",
      "\u001b[0;31mIndexError\u001b[0m                                Traceback (most recent call last)",
      "\u001b[0;32m<ipython-input-28-6bf200e12ecb>\u001b[0m in \u001b[0;36m<module>\u001b[0;34m()\u001b[0m\n\u001b[1;32m      6\u001b[0m     \u001b[0mtext_lines\u001b[0m\u001b[0;34m,\u001b[0m \u001b[0ment_dict\u001b[0m \u001b[0;34m=\u001b[0m \u001b[0mread_file\u001b[0m\u001b[0;34m(\u001b[0m\u001b[0mi\u001b[0m\u001b[0;34m)\u001b[0m\u001b[0;34m\u001b[0m\u001b[0m\n\u001b[1;32m      7\u001b[0m \u001b[0;34m\u001b[0m\u001b[0m\n\u001b[0;32m----> 8\u001b[0;31m     \u001b[0mtext_lines\u001b[0m \u001b[0;34m=\u001b[0m \u001b[0mtext_lines\u001b[0m\u001b[0;34m.\u001b[0m\u001b[0mapply\u001b[0m\u001b[0;34m(\u001b[0m\u001b[0;32mlambda\u001b[0m \u001b[0mx\u001b[0m\u001b[0;34m:\u001b[0m\u001b[0msentiment_extraction\u001b[0m\u001b[0;34m(\u001b[0m\u001b[0mx\u001b[0m\u001b[0;34m,\u001b[0m\u001b[0ment_dict\u001b[0m\u001b[0;34m)\u001b[0m\u001b[0;34m,\u001b[0m\u001b[0maxis\u001b[0m\u001b[0;34m=\u001b[0m\u001b[0;36m1\u001b[0m\u001b[0;34m)\u001b[0m\u001b[0;34m[\u001b[0m\u001b[0;34m[\u001b[0m\u001b[0;34m'ne_pairs'\u001b[0m\u001b[0;34m,\u001b[0m\u001b[0;34m'ne_substrings'\u001b[0m\u001b[0;34m,\u001b[0m\u001b[0;34m'sent_list'\u001b[0m\u001b[0;34m]\u001b[0m\u001b[0;34m]\u001b[0m\u001b[0;34m\u001b[0m\u001b[0m\n\u001b[0m\u001b[1;32m      9\u001b[0m     \u001b[0mopinions\u001b[0m \u001b[0;34m=\u001b[0m \u001b[0mdict\u001b[0m\u001b[0;34m(\u001b[0m\u001b[0;34m)\u001b[0m\u001b[0;34m\u001b[0m\u001b[0m\n\u001b[1;32m     10\u001b[0m     \u001b[0mtext_lines\u001b[0m\u001b[0;34m[\u001b[0m\u001b[0;34m'summed'\u001b[0m\u001b[0;34m]\u001b[0m \u001b[0;34m=\u001b[0m  \u001b[0mtext_lines\u001b[0m\u001b[0;34m[\u001b[0m\u001b[0;34m'sent_list'\u001b[0m\u001b[0;34m]\u001b[0m\u001b[0;34m.\u001b[0m\u001b[0mapply\u001b[0m\u001b[0;34m(\u001b[0m\u001b[0mget_summed_over_sent\u001b[0m\u001b[0;34m)\u001b[0m\u001b[0;34m\u001b[0m\u001b[0m\n",
      "\u001b[0;32m/home/tophel/anaconda3/lib/python3.6/site-packages/pandas/core/frame.py\u001b[0m in \u001b[0;36mapply\u001b[0;34m(self, func, axis, broadcast, raw, reduce, args, **kwds)\u001b[0m\n\u001b[1;32m   4150\u001b[0m                     \u001b[0;32mif\u001b[0m \u001b[0mreduce\u001b[0m \u001b[0;32mis\u001b[0m \u001b[0;32mNone\u001b[0m\u001b[0;34m:\u001b[0m\u001b[0;34m\u001b[0m\u001b[0m\n\u001b[1;32m   4151\u001b[0m                         \u001b[0mreduce\u001b[0m \u001b[0;34m=\u001b[0m \u001b[0;32mTrue\u001b[0m\u001b[0;34m\u001b[0m\u001b[0m\n\u001b[0;32m-> 4152\u001b[0;31m                     \u001b[0;32mreturn\u001b[0m \u001b[0mself\u001b[0m\u001b[0;34m.\u001b[0m\u001b[0m_apply_standard\u001b[0m\u001b[0;34m(\u001b[0m\u001b[0mf\u001b[0m\u001b[0;34m,\u001b[0m \u001b[0maxis\u001b[0m\u001b[0;34m,\u001b[0m \u001b[0mreduce\u001b[0m\u001b[0;34m=\u001b[0m\u001b[0mreduce\u001b[0m\u001b[0;34m)\u001b[0m\u001b[0;34m\u001b[0m\u001b[0m\n\u001b[0m\u001b[1;32m   4153\u001b[0m             \u001b[0;32melse\u001b[0m\u001b[0;34m:\u001b[0m\u001b[0;34m\u001b[0m\u001b[0m\n\u001b[1;32m   4154\u001b[0m                 \u001b[0;32mreturn\u001b[0m \u001b[0mself\u001b[0m\u001b[0;34m.\u001b[0m\u001b[0m_apply_broadcast\u001b[0m\u001b[0;34m(\u001b[0m\u001b[0mf\u001b[0m\u001b[0;34m,\u001b[0m \u001b[0maxis\u001b[0m\u001b[0;34m)\u001b[0m\u001b[0;34m\u001b[0m\u001b[0m\n",
      "\u001b[0;32m/home/tophel/anaconda3/lib/python3.6/site-packages/pandas/core/frame.py\u001b[0m in \u001b[0;36m_apply_standard\u001b[0;34m(self, func, axis, ignore_failures, reduce)\u001b[0m\n\u001b[1;32m   4246\u001b[0m             \u001b[0;32mtry\u001b[0m\u001b[0;34m:\u001b[0m\u001b[0;34m\u001b[0m\u001b[0m\n\u001b[1;32m   4247\u001b[0m                 \u001b[0;32mfor\u001b[0m \u001b[0mi\u001b[0m\u001b[0;34m,\u001b[0m \u001b[0mv\u001b[0m \u001b[0;32min\u001b[0m \u001b[0menumerate\u001b[0m\u001b[0;34m(\u001b[0m\u001b[0mseries_gen\u001b[0m\u001b[0;34m)\u001b[0m\u001b[0;34m:\u001b[0m\u001b[0;34m\u001b[0m\u001b[0m\n\u001b[0;32m-> 4248\u001b[0;31m                     \u001b[0mresults\u001b[0m\u001b[0;34m[\u001b[0m\u001b[0mi\u001b[0m\u001b[0;34m]\u001b[0m \u001b[0;34m=\u001b[0m \u001b[0mfunc\u001b[0m\u001b[0;34m(\u001b[0m\u001b[0mv\u001b[0m\u001b[0;34m)\u001b[0m\u001b[0;34m\u001b[0m\u001b[0m\n\u001b[0m\u001b[1;32m   4249\u001b[0m                     \u001b[0mkeys\u001b[0m\u001b[0;34m.\u001b[0m\u001b[0mappend\u001b[0m\u001b[0;34m(\u001b[0m\u001b[0mv\u001b[0m\u001b[0;34m.\u001b[0m\u001b[0mname\u001b[0m\u001b[0;34m)\u001b[0m\u001b[0;34m\u001b[0m\u001b[0m\n\u001b[1;32m   4250\u001b[0m             \u001b[0;32mexcept\u001b[0m \u001b[0mException\u001b[0m \u001b[0;32mas\u001b[0m \u001b[0me\u001b[0m\u001b[0;34m:\u001b[0m\u001b[0;34m\u001b[0m\u001b[0m\n",
      "\u001b[0;32m<ipython-input-28-6bf200e12ecb>\u001b[0m in \u001b[0;36m<lambda>\u001b[0;34m(x)\u001b[0m\n\u001b[1;32m      6\u001b[0m     \u001b[0mtext_lines\u001b[0m\u001b[0;34m,\u001b[0m \u001b[0ment_dict\u001b[0m \u001b[0;34m=\u001b[0m \u001b[0mread_file\u001b[0m\u001b[0;34m(\u001b[0m\u001b[0mi\u001b[0m\u001b[0;34m)\u001b[0m\u001b[0;34m\u001b[0m\u001b[0m\n\u001b[1;32m      7\u001b[0m \u001b[0;34m\u001b[0m\u001b[0m\n\u001b[0;32m----> 8\u001b[0;31m     \u001b[0mtext_lines\u001b[0m \u001b[0;34m=\u001b[0m \u001b[0mtext_lines\u001b[0m\u001b[0;34m.\u001b[0m\u001b[0mapply\u001b[0m\u001b[0;34m(\u001b[0m\u001b[0;32mlambda\u001b[0m \u001b[0mx\u001b[0m\u001b[0;34m:\u001b[0m\u001b[0msentiment_extraction\u001b[0m\u001b[0;34m(\u001b[0m\u001b[0mx\u001b[0m\u001b[0;34m,\u001b[0m\u001b[0ment_dict\u001b[0m\u001b[0;34m)\u001b[0m\u001b[0;34m,\u001b[0m\u001b[0maxis\u001b[0m\u001b[0;34m=\u001b[0m\u001b[0;36m1\u001b[0m\u001b[0;34m)\u001b[0m\u001b[0;34m[\u001b[0m\u001b[0;34m[\u001b[0m\u001b[0;34m'ne_pairs'\u001b[0m\u001b[0;34m,\u001b[0m\u001b[0;34m'ne_substrings'\u001b[0m\u001b[0;34m,\u001b[0m\u001b[0;34m'sent_list'\u001b[0m\u001b[0;34m]\u001b[0m\u001b[0;34m]\u001b[0m\u001b[0;34m\u001b[0m\u001b[0m\n\u001b[0m\u001b[1;32m      9\u001b[0m     \u001b[0mopinions\u001b[0m \u001b[0;34m=\u001b[0m \u001b[0mdict\u001b[0m\u001b[0;34m(\u001b[0m\u001b[0;34m)\u001b[0m\u001b[0;34m\u001b[0m\u001b[0m\n\u001b[1;32m     10\u001b[0m     \u001b[0mtext_lines\u001b[0m\u001b[0;34m[\u001b[0m\u001b[0;34m'summed'\u001b[0m\u001b[0;34m]\u001b[0m \u001b[0;34m=\u001b[0m  \u001b[0mtext_lines\u001b[0m\u001b[0;34m[\u001b[0m\u001b[0;34m'sent_list'\u001b[0m\u001b[0;34m]\u001b[0m\u001b[0;34m.\u001b[0m\u001b[0mapply\u001b[0m\u001b[0;34m(\u001b[0m\u001b[0mget_summed_over_sent\u001b[0m\u001b[0;34m)\u001b[0m\u001b[0;34m\u001b[0m\u001b[0m\n",
      "\u001b[0;32m<ipython-input-11-3180cdb62c17>\u001b[0m in \u001b[0;36msentiment_extraction\u001b[0;34m(x, ent_dict)\u001b[0m\n\u001b[1;32m     25\u001b[0m \u001b[0;34m\u001b[0m\u001b[0m\n\u001b[1;32m     26\u001b[0m     \u001b[0;32mfor\u001b[0m \u001b[0;34m(\u001b[0m\u001b[0;34m(\u001b[0m\u001b[0mne1\u001b[0m\u001b[0;34m,\u001b[0m \u001b[0mne1_pos\u001b[0m\u001b[0;34m)\u001b[0m\u001b[0;34m,\u001b[0m \u001b[0;34m(\u001b[0m\u001b[0mne2\u001b[0m\u001b[0;34m,\u001b[0m\u001b[0mne2_pos\u001b[0m\u001b[0;34m)\u001b[0m\u001b[0;34m)\u001b[0m \u001b[0;32min\u001b[0m \u001b[0mne_pairs\u001b[0m\u001b[0;34m:\u001b[0m\u001b[0;34m\u001b[0m\u001b[0m\n\u001b[0;32m---> 27\u001b[0;31m         \u001b[0mx\u001b[0m\u001b[0;34m[\u001b[0m\u001b[0;34m'mutual'\u001b[0m\u001b[0;34m]\u001b[0m \u001b[0;34m=\u001b[0m \u001b[0mget_mutual_node\u001b[0m\u001b[0;34m(\u001b[0m\u001b[0msyntax\u001b[0m\u001b[0;34m,\u001b[0m\u001b[0mne1\u001b[0m\u001b[0;34m,\u001b[0m \u001b[0mne1_pos\u001b[0m\u001b[0;34m,\u001b[0m \u001b[0mne2\u001b[0m\u001b[0;34m,\u001b[0m \u001b[0mne2_pos\u001b[0m\u001b[0;34m)\u001b[0m\u001b[0;34m\u001b[0m\u001b[0m\n\u001b[0m\u001b[1;32m     28\u001b[0m \u001b[0;34m\u001b[0m\u001b[0m\n\u001b[1;32m     29\u001b[0m     \u001b[0mx\u001b[0m\u001b[0;34m[\u001b[0m\u001b[0;34m'ne_pairs'\u001b[0m\u001b[0;34m]\u001b[0m \u001b[0;34m=\u001b[0m \u001b[0mne_pairs\u001b[0m\u001b[0;34m\u001b[0m\u001b[0m\n",
      "\u001b[0;32m<ipython-input-6-bf860b4ffc82>\u001b[0m in \u001b[0;36mget_mutual_node\u001b[0;34m(syntax, ent1, ent1pos, ent2, ent2pos)\u001b[0m\n\u001b[1;32m     20\u001b[0m             \u001b[0mi\u001b[0m\u001b[0;34m=\u001b[0m\u001b[0mh\u001b[0m\u001b[0;34m\u001b[0m\u001b[0m\n\u001b[1;32m     21\u001b[0m     \u001b[0ment_node1\u001b[0m \u001b[0;34m=\u001b[0m \u001b[0mget_node\u001b[0m\u001b[0;34m(\u001b[0m\u001b[0ment1\u001b[0m\u001b[0;34m,\u001b[0m\u001b[0ment1pos\u001b[0m\u001b[0;34m)\u001b[0m\u001b[0;34m\u001b[0m\u001b[0m\n\u001b[0;32m---> 22\u001b[0;31m     \u001b[0ment_node2\u001b[0m \u001b[0;34m=\u001b[0m \u001b[0mget_node\u001b[0m\u001b[0;34m(\u001b[0m\u001b[0ment2\u001b[0m\u001b[0;34m,\u001b[0m\u001b[0ment2pos\u001b[0m\u001b[0;34m)\u001b[0m\u001b[0;34m\u001b[0m\u001b[0m\n\u001b[0m\u001b[1;32m     23\u001b[0m \u001b[0;34m\u001b[0m\u001b[0m\n\u001b[1;32m     24\u001b[0m     \u001b[0mroute1\u001b[0m\u001b[0;34m=\u001b[0m \u001b[0mget_route\u001b[0m\u001b[0;34m(\u001b[0m\u001b[0ment_node1\u001b[0m\u001b[0;34m)\u001b[0m\u001b[0;34m[\u001b[0m\u001b[0;34m:\u001b[0m\u001b[0;34m:\u001b[0m\u001b[0;34m-\u001b[0m\u001b[0;36m1\u001b[0m\u001b[0;34m]\u001b[0m\u001b[0;34m\u001b[0m\u001b[0m\n",
      "\u001b[0;32m<ipython-input-6-bf860b4ffc82>\u001b[0m in \u001b[0;36mget_node\u001b[0;34m(e, p)\u001b[0m\n\u001b[1;32m     11\u001b[0m                 \u001b[0ment_dict\u001b[0m\u001b[0;34m[\u001b[0m\u001b[0mabs\u001b[0m\u001b[0;34m(\u001b[0m\u001b[0mint\u001b[0m\u001b[0;34m(\u001b[0m\u001b[0msyntax\u001b[0m\u001b[0;34m[\u001b[0m\u001b[0mi\u001b[0m\u001b[0;34m]\u001b[0m\u001b[0;34m[\u001b[0m\u001b[0;36m1\u001b[0m\u001b[0;34m]\u001b[0m\u001b[0;34m)\u001b[0m\u001b[0;34m-\u001b[0m\u001b[0mp\u001b[0m\u001b[0;34m)\u001b[0m\u001b[0;34m]\u001b[0m\u001b[0;34m=\u001b[0m\u001b[0mi\u001b[0m\u001b[0;34m\u001b[0m\u001b[0m\n\u001b[1;32m     12\u001b[0m \u001b[0;34m\u001b[0m\u001b[0m\n\u001b[0;32m---> 13\u001b[0;31m         \u001b[0;32mreturn\u001b[0m \u001b[0ment_dict\u001b[0m\u001b[0;34m[\u001b[0m\u001b[0msorted\u001b[0m\u001b[0;34m(\u001b[0m\u001b[0ment_dict\u001b[0m\u001b[0;34m)\u001b[0m\u001b[0;34m[\u001b[0m\u001b[0;36m0\u001b[0m\u001b[0;34m]\u001b[0m\u001b[0;34m]\u001b[0m\u001b[0;34m\u001b[0m\u001b[0m\n\u001b[0m\u001b[1;32m     14\u001b[0m     \u001b[0;32mdef\u001b[0m \u001b[0mget_route\u001b[0m\u001b[0;34m(\u001b[0m\u001b[0mi\u001b[0m\u001b[0;34m)\u001b[0m\u001b[0;34m:\u001b[0m\u001b[0;34m\u001b[0m\u001b[0m\n\u001b[1;32m     15\u001b[0m         \u001b[0mroute\u001b[0m \u001b[0;34m=\u001b[0m \u001b[0mlist\u001b[0m\u001b[0;34m(\u001b[0m\u001b[0;34m)\u001b[0m\u001b[0;34m\u001b[0m\u001b[0m\n",
      "\u001b[0;31mIndexError\u001b[0m: ('list index out of range', 'occurred at index 29')"
     ]
    }
   ],
   "source": [
    "#считывание и извлечение\n",
    "from tqdm import tqdm\n",
    "for i in tqdm(range(1,46)):\n",
    "    if(i in [9,22,26,18,25]): continue\n",
    "    print (i)\n",
    "    text_lines, ent_dict = read_file(i)\n",
    "\n",
    "    text_lines = text_lines.apply(lambda x:sentiment_extraction(x,ent_dict),axis=1)[['ne_pairs','ne_substrings','sent_list']]\n",
    "    opinions = dict()\n",
    "    text_lines['summed'] =  text_lines['sent_list'].apply(get_summed_over_sent)\n",
    "    _ = text_lines['summed'].apply(get_summed)\n",
    "    df = pd.DataFrame([(ne1,ne2,opinions[(ne1,ne2)]) for (ne1,ne2) in opinions.keys()],columns=['ne1','ne2','sent'])\n",
    "    df['sent'] = df['sent'].apply(lambda x: 'negative' if x<0 else ('positive' if x>0 else None))\n",
    "    df[~df['sent'].isnull()].to_csv('Texts/{}.csv'.format(i),index=False,header=False)"
   ]
  }
 ],
 "metadata": {
  "anaconda-cloud": {},
  "kernelspec": {
   "display_name": "Python 3",
   "language": "python",
   "name": "python3"
  },
  "language_info": {
   "codemirror_mode": {
    "name": "ipython",
    "version": 3
   },
   "file_extension": ".py",
   "mimetype": "text/x-python",
   "name": "python",
   "nbconvert_exporter": "python",
   "pygments_lexer": "ipython3",
   "version": "3.6.0"
  }
 },
 "nbformat": 4,
 "nbformat_minor": 1
}
